{
 "cells": [
  {
   "cell_type": "code",
   "execution_count": 1,
   "metadata": {},
   "outputs": [
    {
     "data": {
      "text/plain": [
       "['__class__',\n",
       " '__delattr__',\n",
       " '__dir__',\n",
       " '__doc__',\n",
       " '__eq__',\n",
       " '__format__',\n",
       " '__ge__',\n",
       " '__getattribute__',\n",
       " '__gt__',\n",
       " '__hash__',\n",
       " '__init__',\n",
       " '__init_subclass__',\n",
       " '__le__',\n",
       " '__lt__',\n",
       " '__ne__',\n",
       " '__new__',\n",
       " '__reduce__',\n",
       " '__reduce_ex__',\n",
       " '__repr__',\n",
       " '__setattr__',\n",
       " '__sizeof__',\n",
       " '__str__',\n",
       " '__subclasshook__']"
      ]
     },
     "execution_count": 1,
     "metadata": {},
     "output_type": "execute_result"
    }
   ],
   "source": [
    "# There are few properties of object which gives out its string representation\n",
    "dir(object)\n",
    "# Which are mainly __repr__, __str__ and __format__"
   ]
  },
  {
   "cell_type": "markdown",
   "metadata": {},
   "source": [
    "### Customizing repr()"
   ]
  },
  {
   "cell_type": "code",
   "execution_count": 2,
   "metadata": {},
   "outputs": [],
   "source": [
    "class Position:\n",
    "\n",
    "    def __init__(self, latitude, longitude):\n",
    "        if not (-90 <= latitude <= +90):\n",
    "            raise ValueError(f\"Latitude {latitude} out of range\")\n",
    "\n",
    "        if not (-180 <= longitude <= +180):\n",
    "            raise ValueError(f\"Longitude {longitude} out of range\")\n",
    "\n",
    "        self._latitude = latitude\n",
    "        self._longitude = longitude\n",
    "\n",
    "    @property\n",
    "    def latitude(self):\n",
    "        return self._latitude\n",
    "\n",
    "    @property\n",
    "    def longitude(self):\n",
    "        return self._longitude"
   ]
  },
  {
   "cell_type": "code",
   "execution_count": 3,
   "metadata": {},
   "outputs": [
    {
     "name": "stdout",
     "output_type": "stream",
     "text": [
      "<__main__.Position object at 0x000001C3E126E588>\n",
      "<class '__main__.Position'>\n",
      "\n",
      "<__main__.Position object at 0x000001C3E126E588>\n",
      "<class 'str'>\n"
     ]
    }
   ],
   "source": [
    "sydney = Position(-33.9, 151.2)\n",
    "print(sydney)\n",
    "print(type(sydney))\n",
    "print('')\n",
    "print(repr(sydney))\n",
    "print(type(repr(sydney)))"
   ]
  },
  {
   "cell_type": "code",
   "execution_count": 4,
   "metadata": {},
   "outputs": [],
   "source": [
    "# The repr is meant for developers reference\n",
    "# We can/should always override repr.\n",
    "# repr should ideally formatted as source code for constructor call\n",
    "\n",
    "# Function to give out classname of object\n",
    "def typename(obj):\n",
    "    return type(obj).__name__\n",
    "\n",
    "class Position:\n",
    "    def __init__(self, latitude, longitude):\n",
    "        if not (-90 <= latitude <= +90):\n",
    "            raise ValueError(f\"Latitude {latitude} out of range\")\n",
    "        if not (-180 <= longitude <= +180):\n",
    "            raise ValueError(f\"Longitude {longitude} out of range\")\n",
    "        self._latitude = latitude\n",
    "        self._longitude = longitude\n",
    "\n",
    "    @property\n",
    "    def latitude(self):\n",
    "        return self._latitude\n",
    "\n",
    "    @property\n",
    "    def longitude(self):\n",
    "        return self._longitude\n",
    "    # overriding repr\n",
    "    # Format should be same as source code for constructor call\n",
    "    def __repr__(self):\n",
    "        return f\"{typename(self)}(latitude={self.latitude}, longitude={self.longitude})\""
   ]
  },
  {
   "cell_type": "code",
   "execution_count": 5,
   "metadata": {},
   "outputs": [
    {
     "name": "stdout",
     "output_type": "stream",
     "text": [
      "Position(latitude=-33.9, longitude=151.2)\n",
      "<class '__main__.Position'>\n",
      "\n",
      "Position(latitude=-33.9, longitude=151.2)\n",
      "<class 'str'>\n"
     ]
    }
   ],
   "source": [
    "sydney = Position(-33.9, 151.2)\n",
    "print(sydney)\n",
    "print(type(sydney))\n",
    "print('')\n",
    "print(repr(sydney))\n",
    "print(type(repr(sydney)))"
   ]
  },
  {
   "cell_type": "code",
   "execution_count": 6,
   "metadata": {},
   "outputs": [
    {
     "name": "stdout",
     "output_type": "stream",
     "text": [
      "Position(latitude=-33.9, longitude=151.2)\n",
      "Are sydney and sydney_backup same object?: False\n"
     ]
    }
   ],
   "source": [
    "# Now using this repr we can make replications of the obejct\n",
    "# This is because repr return string which is same as constructor call for the class\n",
    "sydney_backup = eval(repr(sydney))\n",
    "print(repr(sydney))\n",
    "print('Are sydney and sydney_backup same object?:', sydney_backup is sydney)"
   ]
  },
  {
   "cell_type": "code",
   "execution_count": 7,
   "metadata": {},
   "outputs": [
    {
     "name": "stdout",
     "output_type": "stream",
     "text": [
      "EarthPosition(latitude=0, longitude=0)\n",
      "MarsPosition(latitude=0, longitude=0)\n"
     ]
    }
   ],
   "source": [
    "# Because we are not hardcoding the class name of the object, constructor call formatting would be valid even in case of inheritence\n",
    "class EarthPosition(Position):\n",
    "    pass\n",
    "class MarsPosition(Position):\n",
    "    pass\n",
    "\n",
    "earth_city = EarthPosition(0, 0)\n",
    "mars_city = MarsPosition(0, 0)\n",
    "\n",
    "print(repr(earth_city))\n",
    "print(repr(mars_city))"
   ]
  },
  {
   "cell_type": "markdown",
   "metadata": {},
   "source": [
    "### Customizing str()\n",
    "By default str() and format() gives out same result as repr()<br>\n",
    "But str() is generally meant for system consumer and users, we will customize this using __ str__"
   ]
  },
  {
   "cell_type": "code",
   "execution_count": 8,
   "metadata": {},
   "outputs": [],
   "source": [
    "class Position:\n",
    "    def __init__(self, latitude, longitude):\n",
    "        if not (-90 <= latitude <= +90):\n",
    "            raise ValueError(f\"Latitude {latitude} out of range\")\n",
    "\n",
    "        if not (-180 <= longitude <= +180):\n",
    "            raise ValueError(f\"Longitude {longitude} out of range\")\n",
    "\n",
    "        self._latitude = latitude\n",
    "        self._longitude = longitude\n",
    "    @property\n",
    "    def latitude(self):\n",
    "        return self._latitude\n",
    "    @property\n",
    "    def longitude(self):\n",
    "        return self._longitude\n",
    "\n",
    "    # Defining property for giving a better format to str() of Position\n",
    "    @property\n",
    "    def latitude_hemisphere(self):\n",
    "        return \"N\" if self.latitude >= 0 else \"S\"\n",
    "    \n",
    "    @property\n",
    "    def longitude_hemisphere(self):\n",
    "        return \"E\" if self.longitude >= 0 else \"W\"\n",
    "\n",
    "    def __repr__(self):\n",
    "        return f\"{typename(self)}(latitude={self.latitude}, longitude={self.longitude})\"\n",
    "    \n",
    "    # Customizing str()\n",
    "    def __str__(self):\n",
    "        return (\n",
    "            f\"{abs(self.latitude)}° {self.latitude_hemisphere}, \"\n",
    "            f\"{abs(self.longitude)}° {self.longitude_hemisphere}\"\n",
    "        )\n",
    "\n",
    "\n",
    "class EarthPosition(Position):\n",
    "    pass\n",
    "class MarsPosition(Position):\n",
    "    pass\n",
    "\n",
    "def typename(obj):\n",
    "    return type(obj).__name__\n"
   ]
  },
  {
   "cell_type": "code",
   "execution_count": 9,
   "metadata": {},
   "outputs": [
    {
     "data": {
      "text/plain": [
       "'33.9° S, 151.2° E'"
      ]
     },
     "execution_count": 9,
     "metadata": {},
     "output_type": "execute_result"
    }
   ],
   "source": [
    "# Now we can see that str() is returning more user friendly result\n",
    "sydney = EarthPosition(-33.9, 151.2)\n",
    "str(sydney)"
   ]
  },
  {
   "cell_type": "code",
   "execution_count": 10,
   "metadata": {},
   "outputs": [
    {
     "name": "stdout",
     "output_type": "stream",
     "text": [
      "33.9° S, 151.2° E\n"
     ]
    }
   ],
   "source": [
    "# Further we can see that print() statement also returns the str() output\n",
    "print(sydney)"
   ]
  },
  {
   "cell_type": "code",
   "execution_count": 11,
   "metadata": {},
   "outputs": [
    {
     "data": {
      "text/plain": [
       "'33.9° S, 151.2° E'"
      ]
     },
     "execution_count": 11,
     "metadata": {},
     "output_type": "execute_result"
    }
   ],
   "source": [
    "# The format() is now returning same result as str, i.e. format() invokes str()\n",
    "format(sydney)"
   ]
  },
  {
   "cell_type": "markdown",
   "metadata": {},
   "source": [
    "### Customizing format()\n",
    "Unlike str() and repr() format() accepts an argument format_spec<br>\n",
    "It is also for user, but with additional specification."
   ]
  },
  {
   "cell_type": "code",
   "execution_count": 12,
   "metadata": {},
   "outputs": [],
   "source": [
    "class Position:\n",
    "    def __init__(self, latitude, longitude):\n",
    "        if not (-90 <= latitude <= +90):\n",
    "            raise ValueError(f\"Latitude {latitude} out of range\")\n",
    "\n",
    "        if not (-180 <= longitude <= +180):\n",
    "            raise ValueError(f\"Longitude {longitude} out of range\")\n",
    "\n",
    "        self._latitude = latitude\n",
    "        self._longitude = longitude\n",
    "    @property\n",
    "    def latitude(self):\n",
    "        return self._latitude\n",
    "    @property\n",
    "    def longitude(self):\n",
    "        return self._longitude\n",
    "    @property\n",
    "    def latitude_hemisphere(self):\n",
    "        return \"N\" if self.latitude >= 0 else \"S\"\n",
    "    @property\n",
    "    def longitude_hemisphere(self):\n",
    "        return \"E\" if self.longitude >= 0 else \"W\"\n",
    "\n",
    "    def __repr__(self):\n",
    "        return f\"{typename(self)}(latitude={self.latitude}, longitude={self.longitude})\"\n",
    "    \n",
    "    def __str__(self):\n",
    "        return (\n",
    "            f\"{abs(self.latitude)}° {self.latitude_hemisphere}, \"\n",
    "            f\"{abs(self.longitude)}° {self.longitude_hemisphere}\"\n",
    "        )\n",
    "    \n",
    "    # Customizing __format__\n",
    "    def __format__(self, format_spec):\n",
    "        return 'Formatted Position'\n",
    "\n",
    "\n",
    "class EarthPosition(Position):\n",
    "    pass\n",
    "class MarsPosition(Position):\n",
    "    pass\n",
    "\n",
    "def typename(obj):\n",
    "    return type(obj).__name__\n"
   ]
  },
  {
   "cell_type": "code",
   "execution_count": 13,
   "metadata": {},
   "outputs": [
    {
     "data": {
      "text/plain": [
       "'Formatted Position'"
      ]
     },
     "execution_count": 13,
     "metadata": {},
     "output_type": "execute_result"
    }
   ],
   "source": [
    "patna = EarthPosition(25.6, 85.13)\n",
    "format(patna)"
   ]
  },
  {
   "cell_type": "code",
   "execution_count": 14,
   "metadata": {},
   "outputs": [
    {
     "name": "stdout",
     "output_type": "stream",
     "text": [
      "Here it is used Formatted Position\n",
      "Here it is used Formatted Position\n"
     ]
    }
   ],
   "source": [
    "# Where is format used??\n",
    "# It is invoked both in f string and format\n",
    "print(f'Here it is used {patna}')\n",
    "print('Here it is used {}'.format(patna))"
   ]
  },
  {
   "cell_type": "code",
   "execution_count": 15,
   "metadata": {},
   "outputs": [
    {
     "data": {
      "text/plain": [
       "'7.748091e-05'"
      ]
     },
     "execution_count": 15,
     "metadata": {},
     "output_type": "execute_result"
    }
   ],
   "source": [
    "# Where is format_spec used?\n",
    "# It is used to specify how to format the object\n",
    "q = 7.748091e-05\n",
    "format(q)"
   ]
  },
  {
   "cell_type": "code",
   "execution_count": 16,
   "metadata": {},
   "outputs": [
    {
     "data": {
      "text/plain": [
       "'0.000077'"
      ]
     },
     "execution_count": 16,
     "metadata": {},
     "output_type": "execute_result"
    }
   ],
   "source": [
    "# format_spec argument is data type specific, for floats we can use the f formatting\n",
    "format(q, 'f')"
   ]
  },
  {
   "cell_type": "code",
   "execution_count": 17,
   "metadata": {},
   "outputs": [
    {
     "data": {
      "text/plain": [
       "'0.00007748'"
      ]
     },
     "execution_count": 17,
     "metadata": {},
     "output_type": "execute_result"
    }
   ],
   "source": [
    "format(q, '.8f')"
   ]
  },
  {
   "cell_type": "code",
   "execution_count": 18,
   "metadata": {},
   "outputs": [
    {
     "name": "stdout",
     "output_type": "stream",
     "text": [
      "The conductance quantum is 0.0000775\n",
      "The conductance quantum is 7.75e-05\n"
     ]
    }
   ],
   "source": [
    "print(f'The conductance quantum is {q:.7f}')\n",
    "print(f'The conductance quantum is {q:.2e}')\n",
    "# These specifiers are specific for float and will throw error if used with string"
   ]
  },
  {
   "cell_type": "code",
   "execution_count": 19,
   "metadata": {},
   "outputs": [],
   "source": [
    "class Position:\n",
    "    def __init__(self, latitude, longitude):\n",
    "        if not (-90 <= latitude <= +90):\n",
    "            raise ValueError(f\"Latitude {latitude} out of range\")\n",
    "\n",
    "        if not (-180 <= longitude <= +180):\n",
    "            raise ValueError(f\"Longitude {longitude} out of range\")\n",
    "\n",
    "        self._latitude = latitude\n",
    "        self._longitude = longitude\n",
    "    @property\n",
    "    def latitude(self):\n",
    "        return self._latitude\n",
    "    @property\n",
    "    def longitude(self):\n",
    "        return self._longitude\n",
    "    @property\n",
    "    def latitude_hemisphere(self):\n",
    "        return \"N\" if self.latitude >= 0 else \"S\"\n",
    "    @property\n",
    "    def longitude_hemisphere(self):\n",
    "        return \"E\" if self.longitude >= 0 else \"W\"\n",
    "\n",
    "    def __repr__(self):\n",
    "        return f\"{typename(self)}(latitude={self.latitude}, longitude={self.longitude})\"\n",
    "\n",
    "    # Let str return same output as format without format_spec parameter\n",
    "    def __str__(self):\n",
    "        return format(self)\n",
    "\n",
    "    # By default we will give out coordinates with 2 decimal places\n",
    "    # If specified, we will use that to specify the decimal places\n",
    "    def __format__(self, format_spec):\n",
    "        component_format_spec = \".2f\"\n",
    "        prefix, dot, suffix = format_spec.partition(\".\")\n",
    "        if dot:\n",
    "            num_decimal_places = int(suffix)\n",
    "            component_format_spec = f\".{num_decimal_places}f\"\n",
    "        latitude = format(abs(self.latitude), component_format_spec)\n",
    "        longitude = format(abs(self.longitude), component_format_spec)\n",
    "        return (\n",
    "            f\"{latitude}° {self.latitude_hemisphere}, \"\n",
    "            f\"{longitude}° {self.longitude_hemisphere}\"\n",
    "        )\n",
    "\n",
    "class EarthPosition(Position):\n",
    "    pass\n",
    "class MarsPosition(Position):\n",
    "    pass"
   ]
  },
  {
   "cell_type": "code",
   "execution_count": 20,
   "metadata": {},
   "outputs": [
    {
     "data": {
      "text/plain": [
       "'EarthPosition(latitude=25.5941, longitude=85.1376)'"
      ]
     },
     "execution_count": 20,
     "metadata": {},
     "output_type": "execute_result"
    }
   ],
   "source": [
    "patna = EarthPosition(25.5941, 85.1376)\n",
    "repr(patna)"
   ]
  },
  {
   "cell_type": "code",
   "execution_count": 21,
   "metadata": {},
   "outputs": [
    {
     "data": {
      "text/plain": [
       "'25.59° N, 85.14° E'"
      ]
     },
     "execution_count": 21,
     "metadata": {},
     "output_type": "execute_result"
    }
   ],
   "source": [
    "str(patna)"
   ]
  },
  {
   "cell_type": "code",
   "execution_count": 22,
   "metadata": {},
   "outputs": [
    {
     "name": "stdout",
     "output_type": "stream",
     "text": [
      "25.594° N, 85.138° E\n"
     ]
    },
    {
     "data": {
      "text/plain": [
       "'Patna is at 25.594° N, 85.138° E'"
      ]
     },
     "execution_count": 22,
     "metadata": {},
     "output_type": "execute_result"
    }
   ],
   "source": [
    "print(format(patna, '.3'))\n",
    "f'Patna is at {patna:.3}'"
   ]
  },
  {
   "cell_type": "code",
   "execution_count": 23,
   "metadata": {},
   "outputs": [
    {
     "data": {
      "text/plain": [
       "'Patna is at EarthPosition(latitude=25.5941, longitude=85.1376)'"
      ]
     },
     "execution_count": 23,
     "metadata": {},
     "output_type": "execute_result"
    }
   ],
   "source": [
    "# Force the use of repr\n",
    "f'Patna is at {patna!r}'"
   ]
  },
  {
   "cell_type": "code",
   "execution_count": 24,
   "metadata": {},
   "outputs": [
    {
     "data": {
      "text/plain": [
       "'Patna is at 25.59° N, 85.14° E'"
      ]
     },
     "execution_count": 24,
     "metadata": {},
     "output_type": "execute_result"
    }
   ],
   "source": [
    "# Force the use of str\n",
    "f'Patna is at {patna!s}'"
   ]
  }
 ],
 "metadata": {
  "kernelspec": {
   "display_name": "Python 3",
   "language": "python",
   "name": "python3"
  },
  "language_info": {
   "codemirror_mode": {
    "name": "ipython",
    "version": 3
   },
   "file_extension": ".py",
   "mimetype": "text/x-python",
   "name": "python",
   "nbconvert_exporter": "python",
   "pygments_lexer": "ipython3",
   "version": "3.7.6"
  }
 },
 "nbformat": 4,
 "nbformat_minor": 4
}
