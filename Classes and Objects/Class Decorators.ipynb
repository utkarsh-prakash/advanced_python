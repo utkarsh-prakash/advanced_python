{
 "cells": [
  {
   "cell_type": "markdown",
   "metadata": {},
   "source": [
    "### Function Decorator Basic\n"
   ]
  },
  {
   "cell_type": "code",
   "execution_count": 1,
   "metadata": {},
   "outputs": [
    {
     "data": {
      "text/plain": [
       "6"
      ]
     },
     "execution_count": 1,
     "metadata": {},
     "output_type": "execute_result"
    }
   ],
   "source": [
    "# Assigning functions to variables\n",
    "def plus_one(number):\n",
    "    return number + 1\n",
    "\n",
    "add_one = plus_one\n",
    "add_one(5)"
   ]
  },
  {
   "cell_type": "code",
   "execution_count": 2,
   "metadata": {},
   "outputs": [
    {
     "data": {
      "text/plain": [
       "5"
      ]
     },
     "execution_count": 2,
     "metadata": {},
     "output_type": "execute_result"
    }
   ],
   "source": [
    "# Defining functions inside other functions\n",
    "def plus_one(number):\n",
    "    def add_one(number):\n",
    "        return number + 1\n",
    "\n",
    "\n",
    "    result = add_one(number)\n",
    "    return result\n",
    "plus_one(4)"
   ]
  },
  {
   "cell_type": "code",
   "execution_count": 3,
   "metadata": {},
   "outputs": [
    {
     "data": {
      "text/plain": [
       "6"
      ]
     },
     "execution_count": 3,
     "metadata": {},
     "output_type": "execute_result"
    }
   ],
   "source": [
    "# Passing functions as arguments\n",
    "def plus_one(number):\n",
    "    return number + 1\n",
    "\n",
    "def function_call(function):\n",
    "    number_to_add = 5\n",
    "    return function(number_to_add)\n",
    "\n",
    "function_call(plus_one)"
   ]
  },
  {
   "cell_type": "code",
   "execution_count": 4,
   "metadata": {},
   "outputs": [
    {
     "data": {
      "text/plain": [
       "'Hi'"
      ]
     },
     "execution_count": 4,
     "metadata": {},
     "output_type": "execute_result"
    }
   ],
   "source": [
    "# Functions returning other functions\n",
    "def hello_function():\n",
    "    def say_hi():\n",
    "        return \"Hi\"\n",
    "    return say_hi\n",
    "hello = hello_function()\n",
    "hello()"
   ]
  },
  {
   "cell_type": "code",
   "execution_count": 5,
   "metadata": {},
   "outputs": [
    {
     "name": "stdout",
     "output_type": "stream",
     "text": [
      "Some random message\n"
     ]
    }
   ],
   "source": [
    "# Nested function has access to variable scope of enclosing function\n",
    "def print_message(message):\n",
    "    # Enclosong Function\n",
    "    def message_sender():\n",
    "        # Nested Function\n",
    "        print(message)\n",
    "\n",
    "    message_sender()\n",
    "\n",
    "print_message(\"Some random message\")"
   ]
  },
  {
   "cell_type": "code",
   "execution_count": 6,
   "metadata": {},
   "outputs": [],
   "source": [
    "# Defining a decorator, it takes function as an argument and do the manupulations in it.\n",
    "# The manupulations are done in wrapper function which is then returned \n",
    "def uppercase_decorator(function):\n",
    "    def wrapper():\n",
    "        func = function()\n",
    "        make_uppercase = func.upper()\n",
    "        return make_uppercase\n",
    "\n",
    "    return wrapper"
   ]
  },
  {
   "cell_type": "code",
   "execution_count": 7,
   "metadata": {},
   "outputs": [
    {
     "data": {
      "text/plain": [
       "'HELLO THERE'"
      ]
     },
     "execution_count": 7,
     "metadata": {},
     "output_type": "execute_result"
    }
   ],
   "source": [
    "# @uppercase_decorator is equivalent to uppercase_decorator(function)\n",
    "def say_hi():\n",
    "    return 'hello there'\n",
    "\n",
    "decorate = uppercase_decorator(say_hi)\n",
    "decorate()"
   ]
  },
  {
   "cell_type": "code",
   "execution_count": 8,
   "metadata": {},
   "outputs": [
    {
     "data": {
      "text/plain": [
       "'HELLO THERE'"
      ]
     },
     "execution_count": 8,
     "metadata": {},
     "output_type": "execute_result"
    }
   ],
   "source": [
    "@uppercase_decorator\n",
    "def say_hi():\n",
    "    return 'hello there'\n",
    "\n",
    "say_hi()"
   ]
  },
  {
   "cell_type": "code",
   "execution_count": 9,
   "metadata": {},
   "outputs": [
    {
     "data": {
      "text/plain": [
       "['HELLO', 'THERE']"
      ]
     },
     "execution_count": 9,
     "metadata": {},
     "output_type": "execute_result"
    }
   ],
   "source": [
    "# Multiple decorators\n",
    "def split_string(function):\n",
    "    def wrapper():\n",
    "        func = function()\n",
    "        splitted_string = func.split()\n",
    "        return splitted_string\n",
    "\n",
    "    return wrapper\n",
    "\n",
    "@split_string\n",
    "@uppercase_decorator\n",
    "def say_hi():\n",
    "    return 'hello there'\n",
    "say_hi()"
   ]
  },
  {
   "cell_type": "code",
   "execution_count": 10,
   "metadata": {},
   "outputs": [
    {
     "name": "stdout",
     "output_type": "stream",
     "text": [
      "My arguments are: Patna, Bangalore\n",
      "Cities I love are Patna and Bangalore\n"
     ]
    }
   ],
   "source": [
    "# Accepting arguments in functions being deorated\n",
    "def decorator_with_arguments(function):\n",
    "    def wrapper_accepting_arguments(arg1, arg2):\n",
    "        print(\"My arguments are: {0}, {1}\".format(arg1,arg2))\n",
    "        function(arg1, arg2)\n",
    "    return wrapper_accepting_arguments\n",
    "\n",
    "\n",
    "@decorator_with_arguments\n",
    "def cities(city_one, city_two):\n",
    "    print(\"Cities I love are {0} and {1}\".format(city_one, city_two))\n",
    "\n",
    "cities(\"Patna\", \"Bangalore\")"
   ]
  },
  {
   "cell_type": "code",
   "execution_count": 11,
   "metadata": {},
   "outputs": [],
   "source": [
    "# General purpose decorator, which takes in functions with all the arguments\n",
    "def a_decorator_passing_arbitrary_arguments(function):\n",
    "    def a_wrapper_accepting_arbitrary_arguments(*args,**kwargs):\n",
    "        print('The positional arguments are', args)\n",
    "        print('The keyword arguments are', kwargs)\n",
    "        function(*args, **kwargs)\n",
    "    return a_wrapper_accepting_arbitrary_arguments"
   ]
  },
  {
   "cell_type": "code",
   "execution_count": 12,
   "metadata": {},
   "outputs": [
    {
     "name": "stdout",
     "output_type": "stream",
     "text": [
      "The positional arguments are ('YOYO',)\n",
      "The keyword arguments are {'first_name': 'Utkarsh', 'last_name': 'Prakash'}\n",
      "Full name is Utkarsh YOYO Prakash\n"
     ]
    }
   ],
   "source": [
    "@a_decorator_passing_arbitrary_arguments\n",
    "def func(middle_name, first_name, last_name):\n",
    "    print(f\"Full name is {first_name} {middle_name} {last_name}\")\n",
    "\n",
    "func(\"YOYO\", first_name=\"Utkarsh\", last_name=\"Prakash\")"
   ]
  },
  {
   "cell_type": "markdown",
   "metadata": {},
   "source": [
    "### Class Decorators"
   ]
  },
  {
   "cell_type": "code",
   "execution_count": 13,
   "metadata": {},
   "outputs": [],
   "source": [
    "# Position Class definition\n",
    "def typename(obj):\n",
    "    return type(obj).__name__\n",
    "\n",
    "class Position:\n",
    "\n",
    "    def __init__(self, latitude, longitude):\n",
    "        if not (-90 <= latitude <= +90):\n",
    "            raise ValueError(f\"Latitude {latitude} out of range\")\n",
    "\n",
    "        if not (-180 <= longitude <= +180):\n",
    "            raise ValueError(f\"Longitude {longitude} out of range\")\n",
    "\n",
    "        self._latitude = latitude\n",
    "        self._longitude = longitude\n",
    "\n",
    "    @property\n",
    "    def latitude(self):\n",
    "        return self._latitude\n",
    "\n",
    "    @property\n",
    "    def longitude(self):\n",
    "        return self._longitude\n",
    "\n",
    "    @property\n",
    "    def latitude_hemisphere(self):\n",
    "        return \"N\" if self.latitude >= 0 else \"S\"\n",
    "\n",
    "    @property\n",
    "    def longitude_hemisphere(self):\n",
    "        return \"E\" if self.longitude >= 0 else \"W\"\n",
    "\n",
    "    def __repr__(self):\n",
    "        return f\"{typename(self)}(latitude={self.latitude}, longitude={self.longitude})\"\n",
    "\n",
    "    def __str__(self):\n",
    "        return format(self)\n",
    "\n",
    "    def __format__(self, format_spec):\n",
    "        component_format_spec = \".2f\"\n",
    "        prefix, dot, suffix = format_spec.partition(\".\")\n",
    "        if dot:\n",
    "            num_decimal_places = int(suffix)\n",
    "            component_format_spec = f\".{num_decimal_places}f\"\n",
    "        latitude = format(abs(self.latitude), component_format_spec)\n",
    "        longitude = format(abs(self.longitude), component_format_spec)\n",
    "        return (\n",
    "            f\"{latitude}° {self.latitude_hemisphere}, \"\n",
    "            f\"{longitude}° {self.longitude_hemisphere}\"\n",
    "        )\n",
    "\n",
    "class EarthPosition(Position):\n",
    "    pass\n",
    "\n",
    "class MarsPosition(Position):\n",
    "    pass"
   ]
  },
  {
   "cell_type": "code",
   "execution_count": 14,
   "metadata": {},
   "outputs": [],
   "source": [
    "# This class takes in name of the city and its location instance as argument\n",
    "# Its __str__ is defined, but __repr__ is not defined\n",
    "class Location:\n",
    "\n",
    "    def __init__(self, name, position):\n",
    "        self._name = name\n",
    "        self._position = position\n",
    "\n",
    "    @property\n",
    "    def name(self):\n",
    "        return self._name\n",
    "\n",
    "    @property\n",
    "    def position(self):\n",
    "        return self._position\n",
    "\n",
    "    def __str__(self):\n",
    "        return self.name\n",
    "\n",
    "hong_kong = Location(\"Hong Kong\", EarthPosition(22.29, 114.16))\n",
    "stockholm = Location(\"Stockholm\", EarthPosition(59.33, 18.06))\n",
    "cape_town = Location(\"Cape Town\", EarthPosition(-33.93, 18.42))\n",
    "rotterdam = Location(\"Rotterdam\", EarthPosition(51.96, 4.47))\n",
    "maracaibo = Location(\"Maracaibo\", EarthPosition(10.65, -71.65))"
   ]
  },
  {
   "cell_type": "code",
   "execution_count": 15,
   "metadata": {},
   "outputs": [
    {
     "data": {
      "text/plain": [
       "EarthPosition(latitude=22.29, longitude=114.16)"
      ]
     },
     "execution_count": 15,
     "metadata": {},
     "output_type": "execute_result"
    }
   ],
   "source": [
    "hong_kong.position"
   ]
  },
  {
   "cell_type": "code",
   "execution_count": 16,
   "metadata": {},
   "outputs": [
    {
     "name": "stdout",
     "output_type": "stream",
     "text": [
      "Decorating Location with auto_repr\n",
      "__module__ __main__\n",
      "__init__ <function Location.__init__ at 0x000002ACE2163708>\n",
      "name <property object at 0x000002ACE215F188>\n",
      "position <property object at 0x000002ACE2152688>\n",
      "__str__ <function Location.__str__ at 0x000002ACE21638B8>\n",
      "__dict__ <attribute '__dict__' of 'Location' objects>\n",
      "__weakref__ <attribute '__weakref__' of 'Location' objects>\n",
      "__doc__ None\n"
     ]
    }
   ],
   "source": [
    "# Lets define a decorator which will synthesize a __repr__ method for the class\n",
    "# For revision, a __repr__ method should regenerate the class call format\n",
    "\n",
    "# A class decorator should intake a class and output a class\n",
    "def auto_repr(cls):\n",
    "    print(f\"Decorating {cls.__name__} with auto_repr\")\n",
    "    members = vars(cls)\n",
    "    for name, member in members.items():\n",
    "        print(name, member)\n",
    "    return cls\n",
    "\n",
    "@auto_repr\n",
    "class Location:\n",
    "    def __init__(self, name, position):\n",
    "        self._name = name\n",
    "        self._position = position\n",
    "\n",
    "    @property\n",
    "    def name(self):\n",
    "        return self._name\n",
    "\n",
    "    @property\n",
    "    def position(self):\n",
    "        return self._position\n",
    "\n",
    "    def __str__(self):\n",
    "        return self.name"
   ]
  },
  {
   "cell_type": "markdown",
   "metadata": {},
   "source": [
    "The output tells us that decorators are called when class is defined."
   ]
  },
  {
   "cell_type": "code",
   "execution_count": 17,
   "metadata": {},
   "outputs": [
    {
     "name": "stdout",
     "output_type": "stream",
     "text": [
      "Decorating Location with auto_repr\n",
      "__module__ __main__\n",
      "__init__ <function Location.__init__ at 0x000002ACE21634C8>\n",
      "name <property object at 0x000002ACE217D7C8>\n",
      "position <property object at 0x000002ACE217E138>\n",
      "__str__ <function Location.__str__ at 0x000002ACE2172168>\n",
      "__dict__ <attribute '__dict__' of 'Location' objects>\n",
      "__weakref__ <attribute '__weakref__' of 'Location' objects>\n",
      "__doc__ None\n",
      "__init__ parameter names:  ['name', 'position']\n"
     ]
    }
   ],
   "source": [
    "# Before we can synthesize the __repr__ we need to perform few necessary checks in the decorator.\n",
    "\n",
    "import inspect\n",
    "\n",
    "def auto_repr(cls):\n",
    "    print(f\"Decorating {cls.__name__} with auto_repr\")\n",
    "    members = vars(cls)\n",
    "    for name, member in members.items():\n",
    "        print(name, member)\n",
    "\n",
    "    #1 __repr__ should not be already defined in the class\n",
    "    if \"__repr__\" in members:\n",
    "        raise TypeError(f\"{cls.__name__} already defines __repr__\")\n",
    "\n",
    "    #2 The decorated class should have its own initializer.\n",
    "    # We are trying to replicate class call which we can only do if know what __init__ accepts.\n",
    "    if \"__init__\" not in members:\n",
    "        raise TypeError(f\"{cls.__name__} does not override __init__\")\n",
    "\n",
    "    #3 All the parameters passed to __init__ must have a corressponding property defined\n",
    "    sig = inspect.signature(cls.__init__)\n",
    "    # Excluding self, which is the first parameter to init\n",
    "    parameter_names = list(sig.parameters)[1:]\n",
    "    print(\"__init__ parameter names: \", parameter_names)\n",
    "\n",
    "    # Checking if there exist a property for each parameter\n",
    "    if not all(\n",
    "        isinstance(members.get(name, None), property)\n",
    "        for name in parameter_names\n",
    "    ):\n",
    "        raise TypeError(\n",
    "            f\"Cannot apply auto_repr to {cls.__name__} because not all \"\n",
    "            \"__init__ parameters have matching properties\"\n",
    "        )\n",
    "\n",
    "    return cls\n",
    "\n",
    "\n",
    "@auto_repr\n",
    "class Location:\n",
    "    def __init__(self, name, position):\n",
    "        self._name = name\n",
    "        self._position = position\n",
    "\n",
    "    @property\n",
    "    def name(self):\n",
    "        return self._name\n",
    "\n",
    "    @property\n",
    "    def position(self):\n",
    "        return self._position\n",
    "\n",
    "    def __str__(self):\n",
    "        return self.name"
   ]
  },
  {
   "cell_type": "code",
   "execution_count": 18,
   "metadata": {},
   "outputs": [],
   "source": [
    "# Synthesizing the __repr__ method\n",
    "def auto_repr(cls):\n",
    "    members = vars(cls)\n",
    "\n",
    "    if \"__repr__\" in members:\n",
    "        raise TypeError(f\"{cls.__name__} already defines __repr__\")\n",
    "\n",
    "    if \"__init__\" not in members:\n",
    "        raise TypeError(f\"{cls.__name__} does not override __init__\")\n",
    "\n",
    "    sig = inspect.signature(cls.__init__)\n",
    "    parameter_names = list(sig.parameters)[1:]\n",
    "\n",
    "    if not all(\n",
    "        isinstance(members.get(name, None), property)\n",
    "        for name in parameter_names\n",
    "    ):\n",
    "        raise TypeError(\n",
    "            f\"Cannot apply auto_repr to {cls.__name__} because not all \"\n",
    "            \"__init__ parameters have matching properties\"\n",
    "        )\n",
    "\n",
    "    def synthesized_repr(self):\n",
    "        # we are using self and not cls as to get an instance of calling class and not base class\n",
    "        return \"{typename}({args})\".format(\n",
    "            typename=typename(self),\n",
    "            args=\", \".join(\n",
    "                \"{name}={value!r}\".format(\n",
    "                    name=name,\n",
    "                    value=getattr(self, name)\n",
    "                ) for name in parameter_names\n",
    "            )\n",
    "        )\n",
    "\n",
    "    # Setting the __repr__ attribute for cls\n",
    "    setattr(cls, \"__repr__\", synthesized_repr)\n",
    "\n",
    "    return cls\n",
    "\n",
    "\n",
    "@auto_repr\n",
    "class Location:\n",
    "    def __init__(self, name, position):\n",
    "        self._name = name\n",
    "        self._position = position\n",
    "\n",
    "    @property\n",
    "    def name(self):\n",
    "        return self._name\n",
    "\n",
    "    @property\n",
    "    def position(self):\n",
    "        return self._position\n",
    "\n",
    "    def __str__(self):\n",
    "        return self.name"
   ]
  },
  {
   "cell_type": "code",
   "execution_count": 19,
   "metadata": {},
   "outputs": [
    {
     "data": {
      "text/plain": [
       "Location(name='Hong Kong', position=EarthPosition(latitude=22.29, longitude=114.16))"
      ]
     },
     "execution_count": 19,
     "metadata": {},
     "output_type": "execute_result"
    }
   ],
   "source": [
    "hong_kong = Location(\"Hong Kong\", EarthPosition(22.29, 114.16))\n",
    "stockholm = Location(\"Stockholm\", EarthPosition(59.33, 18.06))\n",
    "cape_town = Location(\"Cape Town\", EarthPosition(-33.93, 18.42))\n",
    "rotterdam = Location(\"Rotterdam\", EarthPosition(51.96, 4.47))\n",
    "maracaibo = Location(\"Maracaibo\", EarthPosition(10.65, -71.65))\n",
    "# Lets check if we can get the __repr__ result without defining the method in class\n",
    "hong_kong"
   ]
  }
 ],
 "metadata": {
  "kernelspec": {
   "display_name": "Python 3",
   "language": "python",
   "name": "python3"
  },
  "language_info": {
   "codemirror_mode": {
    "name": "ipython",
    "version": 3
   },
   "file_extension": ".py",
   "mimetype": "text/x-python",
   "name": "python",
   "nbconvert_exporter": "python",
   "pygments_lexer": "ipython3",
   "version": "3.7.6"
  }
 },
 "nbformat": 4,
 "nbformat_minor": 4
}
