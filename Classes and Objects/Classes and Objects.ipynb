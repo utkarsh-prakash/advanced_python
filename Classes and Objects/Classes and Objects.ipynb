{
 "cells": [
  {
   "cell_type": "markdown",
   "metadata": {},
   "source": [
    "<b>Encapsulation</b> - Managed access to hidden data.<br>\n",
    "<b>Abstraction</b> - Simple interface to complex objects.<br>\n",
    "<b>Inheritance</b> - Relating the genral to specific.<br>\n",
    "<b>Polymorphism</b> - A single interface to different types."
   ]
  },
  {
   "cell_type": "code",
   "execution_count": 1,
   "metadata": {},
   "outputs": [],
   "source": [
    "class Rectangle:\n",
    "    def __init__(self, width, height):\n",
    "        self.width = width\n",
    "        self.height = height\n",
    "        self.area = width*height\n",
    "        self.peremeter = 2*width + 2*height"
   ]
  },
  {
   "cell_type": "code",
   "execution_count": 2,
   "metadata": {},
   "outputs": [
    {
     "data": {
      "text/plain": [
       "<__main__.Rectangle at 0x1ca6f6f2288>"
      ]
     },
     "execution_count": 2,
     "metadata": {},
     "output_type": "execute_result"
    }
   ],
   "source": [
    "a = Rectangle(5, 7)\n",
    "a"
   ]
  },
  {
   "cell_type": "code",
   "execution_count": 3,
   "metadata": {},
   "outputs": [
    {
     "name": "stdout",
     "output_type": "stream",
     "text": [
      "7\n",
      "35\n",
      "24\n"
     ]
    }
   ],
   "source": [
    "print(a.height)\n",
    "print(a.area)\n",
    "print(a.peremeter)"
   ]
  },
  {
   "cell_type": "code",
   "execution_count": 4,
   "metadata": {},
   "outputs": [
    {
     "data": {
      "text/plain": [
       "10"
      ]
     },
     "execution_count": 4,
     "metadata": {},
     "output_type": "execute_result"
    }
   ],
   "source": [
    "b = Rectangle(2, 5)\n",
    "b.area"
   ]
  },
  {
   "cell_type": "markdown",
   "metadata": {},
   "source": [
    "### The classic Shipping Container Example"
   ]
  },
  {
   "cell_type": "code",
   "execution_count": 5,
   "metadata": {},
   "outputs": [
    {
     "name": "stdout",
     "output_type": "stream",
     "text": [
      "c1 Owner: YML\n",
      "c1 Contents: ['Books']\n"
     ]
    }
   ],
   "source": [
    "class ShippingContainer:\n",
    "    def __init__(self, owner_code, contents):\n",
    "        # owner_code will be a string and contents would be a list of strings\n",
    "        self.owner_code = owner_code\n",
    "        self.contents = contents\n",
    "\n",
    "c1 = ShippingContainer('YML', ['Books'])\n",
    "print('c1 Owner:', c1.owner_code)\n",
    "print('c1 Contents:', c1.contents)"
   ]
  },
  {
   "cell_type": "markdown",
   "metadata": {},
   "source": [
    "### Class Attributes\n",
    "These attributes belongs to class rather than a single instance of class."
   ]
  },
  {
   "cell_type": "code",
   "execution_count": 6,
   "metadata": {},
   "outputs": [
    {
     "name": "stdout",
     "output_type": "stream",
     "text": [
      "c1 Serial Number: 1337\n",
      "c1 Owner: YML\n",
      "c1 Contents: ['Books']\n",
      "\n",
      "c2 Serial Number: 1338\n",
      "c2 Owner: ESC\n",
      "c2 Contents: ['Electronics']\n"
     ]
    }
   ],
   "source": [
    "class ShippingContainer:\n",
    "    next_serial = 1337\n",
    "    def __init__(self, owner_code, contents):\n",
    "        # owner_code will be a string and contents would be a list of strings\n",
    "        self.owner_code = owner_code\n",
    "        self.contents = contents\n",
    "        self.serial_number = ShippingContainer.next_serial\n",
    "        ShippingContainer.next_serial += 1\n",
    "\n",
    "c1 = ShippingContainer('YML', ['Books'])\n",
    "print('c1 Serial Number:', c1.serial_number)\n",
    "print('c1 Owner:', c1.owner_code)\n",
    "print('c1 Contents:', c1.contents)\n",
    "print('')\n",
    "c2 = ShippingContainer('ESC', ['Electronics'])\n",
    "print('c2 Serial Number:', c2.serial_number)\n",
    "print('c2 Owner:', c2.owner_code)\n",
    "print('c2 Contents:', c2.contents)"
   ]
  },
  {
   "cell_type": "code",
   "execution_count": 7,
   "metadata": {},
   "outputs": [
    {
     "name": "stdout",
     "output_type": "stream",
     "text": [
      "1339\n",
      "1339\n",
      "1339\n"
     ]
    }
   ],
   "source": [
    "# Interesting: we can get this class attribute using the class name OR the instance name\n",
    "print(ShippingContainer.next_serial)\n",
    "print(c1.next_serial)\n",
    "print(c2.next_serial)"
   ]
  },
  {
   "cell_type": "markdown",
   "metadata": {},
   "source": [
    "- We can use the class attribute with self identifier, i.e self.serial_number = self.next_serial will work just fine.\n",
    "- But problem occurs when we try to assign value to class attribute using self identifier.\n",
    "- self.next_serial += 1 will contain a new instance attribute rather than modifying the class attribute.\n",
    "\n",
    "If class attribute and instance attribute exists with same name, self.name will always give presidence to instance attribute"
   ]
  },
  {
   "cell_type": "markdown",
   "metadata": {},
   "source": [
    "### Static Methods"
   ]
  },
  {
   "cell_type": "code",
   "execution_count": 8,
   "metadata": {},
   "outputs": [
    {
     "name": "stdout",
     "output_type": "stream",
     "text": [
      "c1 Serial Number: 1337\n",
      "c1 Owner: YML\n",
      "c1 Contents: ['Books']\n",
      "\n",
      "c2 Serial Number: 1338\n",
      "c2 Owner: ESC\n",
      "c2 Contents: ['Electronics']\n"
     ]
    }
   ],
   "source": [
    "class ShippingContainer:\n",
    "    next_serial = 1337\n",
    "    \n",
    "    def _generate_serial(self):\n",
    "        # function name starting with _ as we will never use it outside the class definintion\n",
    "        result = ShippingContainer.next_serial\n",
    "        ShippingContainer.next_serial += 1 \n",
    "        return result\n",
    "        \n",
    "    def __init__(self, owner_code, contents):\n",
    "        # owner_code will be a string and contents would be a list of strings\n",
    "        self.owner_code = owner_code\n",
    "        self.contents = contents\n",
    "        self.serial_number = self._generate_serial()\n",
    "\n",
    "c1 = ShippingContainer('YML', ['Books'])\n",
    "print('c1 Serial Number:', c1.serial_number)\n",
    "print('c1 Owner:', c1.owner_code)\n",
    "print('c1 Contents:', c1.contents)\n",
    "print('')\n",
    "c2 = ShippingContainer('ESC', ['Electronics'])\n",
    "print('c2 Serial Number:', c2.serial_number)\n",
    "print('c2 Owner:', c2.owner_code)\n",
    "print('c2 Contents:', c2.contents)"
   ]
  },
  {
   "cell_type": "code",
   "execution_count": 9,
   "metadata": {},
   "outputs": [
    {
     "name": "stdout",
     "output_type": "stream",
     "text": [
      "c1 Serial Number: 1337\n",
      "c1 Owner: YML\n",
      "c1 Contents: ['Books']\n",
      "\n",
      "c2 Serial Number: 1338\n",
      "c2 Owner: ESC\n",
      "c2 Contents: ['Electronics']\n"
     ]
    }
   ],
   "source": [
    "# As we can see that the self parameter of the function _generate_serial is reduntant as we never use it.\n",
    "# We can use static functions when functions are static for each and every instance.\n",
    "class ShippingContainer:\n",
    "    next_serial = 1337\n",
    "    \n",
    "    @staticmethod\n",
    "    # self argument removed\n",
    "    def _generate_serial():\n",
    "        # function name starting with _ as we will never use it outside the class definintion\n",
    "        result = ShippingContainer.next_serial\n",
    "        ShippingContainer.next_serial += 1 \n",
    "        return result\n",
    "        \n",
    "    def __init__(self, owner_code, contents):\n",
    "        # owner_code will be a string and contents would be a list of strings\n",
    "        self.owner_code = owner_code\n",
    "        self.contents = contents\n",
    "        # Its considered a good practice to use statics methods with class identifiers rather than self\n",
    "        self.serial_number = ShippingContainer._generate_serial()\n",
    "\n",
    "c1 = ShippingContainer('YML', ['Books'])\n",
    "print('c1 Serial Number:', c1.serial_number)\n",
    "print('c1 Owner:', c1.owner_code)\n",
    "print('c1 Contents:', c1.contents)\n",
    "print('')\n",
    "c2 = ShippingContainer('ESC', ['Electronics'])\n",
    "print('c2 Serial Number:', c2.serial_number)\n",
    "print('c2 Owner:', c2.owner_code)\n",
    "print('c2 Contents:', c2.contents)"
   ]
  },
  {
   "cell_type": "code",
   "execution_count": 10,
   "metadata": {},
   "outputs": [
    {
     "data": {
      "text/plain": [
       "1340"
      ]
     },
     "execution_count": 10,
     "metadata": {},
     "output_type": "execute_result"
    }
   ],
   "source": [
    "c1._generate_serial()\n",
    "c3 = ShippingContainer('AFL', ['Toys'])\n",
    "c3.serial_number"
   ]
  },
  {
   "cell_type": "code",
   "execution_count": 11,
   "metadata": {},
   "outputs": [
    {
     "data": {
      "text/plain": [
       "1342"
      ]
     },
     "execution_count": 11,
     "metadata": {},
     "output_type": "execute_result"
    }
   ],
   "source": [
    "ShippingContainer._generate_serial()\n",
    "c4 = ShippingContainer('BGT', ['Meds'])\n",
    "c4.serial_number"
   ]
  },
  {
   "cell_type": "markdown",
   "metadata": {},
   "source": [
    "### Class Methods "
   ]
  },
  {
   "cell_type": "code",
   "execution_count": 12,
   "metadata": {},
   "outputs": [
    {
     "name": "stdout",
     "output_type": "stream",
     "text": [
      "c1 Serial Number: 1337\n",
      "c1 Owner: YML\n",
      "c1 Contents: ['Books']\n",
      "\n",
      "c2 Serial Number: 1338\n",
      "c2 Owner: ESC\n",
      "c2 Contents: ['Electronics']\n"
     ]
    }
   ],
   "source": [
    "class ShippingContainer:\n",
    "    next_serial = 1337\n",
    "    \n",
    "    @classmethod\n",
    "    # class methods can take in class attributes with cls identifiers\n",
    "    def _generate_serial(cls):\n",
    "        # It takes cls as an argument\n",
    "        result = cls.next_serial\n",
    "        cls.next_serial += 1 \n",
    "        return result\n",
    "        \n",
    "    def __init__(self, owner_code, contents):\n",
    "        # owner_code will be a string and contents would be a list of strings\n",
    "        self.owner_code = owner_code\n",
    "        self.contents = contents\n",
    "        # Its considered a good practice to use statics methods with class identifiers rather than self\n",
    "        self.serial_number = ShippingContainer._generate_serial()\n",
    "\n",
    "c1 = ShippingContainer('YML', ['Books'])\n",
    "print('c1 Serial Number:', c1.serial_number)\n",
    "print('c1 Owner:', c1.owner_code)\n",
    "print('c1 Contents:', c1.contents)\n",
    "print('')\n",
    "c2 = ShippingContainer('ESC', ['Electronics'])\n",
    "print('c2 Serial Number:', c2.serial_number)\n",
    "print('c2 Owner:', c2.owner_code)\n",
    "print('c2 Contents:', c2.contents)"
   ]
  },
  {
   "cell_type": "markdown",
   "metadata": {},
   "source": [
    "- Use @classmethod when you require access to class attributes and methods.\n",
    "- Use @staticmethod when you require access to instance attribute and methods."
   ]
  },
  {
   "cell_type": "markdown",
   "metadata": {},
   "source": [
    "### Factory Method\n",
    "- Returns instance of class with different combination of arguments.\n",
    "- These methods allows callers to express intents."
   ]
  },
  {
   "cell_type": "code",
   "execution_count": 13,
   "metadata": {},
   "outputs": [
    {
     "name": "stdout",
     "output_type": "stream",
     "text": [
      "c1 Serial Number: 1337\n",
      "c1 Owner: YML\n",
      "c1 Contents: ['Books']\n",
      "\n",
      "c2 Serial Number: 1338\n",
      "c2 Owner: ESC\n",
      "c2 Contents: ['Electronics']\n",
      "\n",
      "c3 Serial Number: 1339\n",
      "c3 Owner: BFG\n",
      "c3 Contents: []\n",
      "\n",
      "c4 Serial Number: 1340\n",
      "c4 Owner: ASF\n",
      "c4 Contents: ['Milk', 'Eggs', 'Food']\n"
     ]
    }
   ],
   "source": [
    "class ShippingContainer:\n",
    "    next_serial = 1337\n",
    "    \n",
    "    @classmethod\n",
    "    def _generate_serial(cls):\n",
    "        result = cls.next_serial\n",
    "        cls.next_serial += 1 \n",
    "        return result\n",
    "\n",
    "    # Mentioned below are the factory methods to create custom instances without modification in __init__\n",
    "    @classmethod\n",
    "    def create_empty(cls, owner_code):\n",
    "        return cls(owner_code, contents=[])\n",
    "    \n",
    "    @classmethod\n",
    "    def create_with_items(cls, owner_code, items):\n",
    "        return cls(owner_code, contents=list(items))\n",
    "        \n",
    "        \n",
    "    def __init__(self, owner_code, contents):\n",
    "        # owner_code will be a string and contents would be a list of strings\n",
    "        self.owner_code = owner_code\n",
    "        self.contents = contents\n",
    "        self.serial_number = ShippingContainer._generate_serial()\n",
    "\n",
    "c1 = ShippingContainer('YML', ['Books'])\n",
    "print('c1 Serial Number:', c1.serial_number)\n",
    "print('c1 Owner:', c1.owner_code)\n",
    "print('c1 Contents:', c1.contents)\n",
    "print('')\n",
    "c2 = ShippingContainer('ESC', ['Electronics'])\n",
    "print('c2 Serial Number:', c2.serial_number)\n",
    "print('c2 Owner:', c2.owner_code)\n",
    "print('c2 Contents:', c2.contents)\n",
    "print('')\n",
    "# Creating a special custom instance using factory method which returns an instance\n",
    "c3 = ShippingContainer.create_empty('BFG')\n",
    "print('c3 Serial Number:', c3.serial_number)\n",
    "print('c3 Owner:', c3.owner_code)\n",
    "print('c3 Contents:', c3.contents)\n",
    "print('')\n",
    "c4 = ShippingContainer.create_with_items('ASF', {'Food', 'Eggs', 'Milk'})\n",
    "print('c4 Serial Number:', c4.serial_number)\n",
    "print('c4 Owner:', c4.owner_code)\n",
    "print('c4 Contents:', c4.contents)"
   ]
  },
  {
   "cell_type": "code",
   "execution_count": 14,
   "metadata": {},
   "outputs": [
    {
     "name": "stdout",
     "output_type": "stream",
     "text": [
      "c1 BIC Number: YMLU0013374\n",
      "c1 Owner: YML\n",
      "c1 Contents: ['Books']\n",
      "\n",
      "c2 BIC Number: ESCU0013388\n",
      "c2 Owner: ESC\n",
      "c2 Contents: ['Electronics']\n",
      "\n",
      "c3 BIC Number: BFGU0013390\n",
      "c3 Owner: BFG\n",
      "c3 Contents: []\n",
      "\n",
      "c4 BIC Number: ASFU0013403\n",
      "c4 Owner: ASF\n",
      "c4 Contents: ['Milk', 'Eggs', 'Food']\n"
     ]
    }
   ],
   "source": [
    "import iso6346\n",
    "\n",
    "class ShippingContainer:\n",
    "\n",
    "    next_serial = 1337\n",
    "\n",
    "    @classmethod\n",
    "    def _generate_serial(cls):\n",
    "        result = cls.next_serial\n",
    "        cls.next_serial += 1\n",
    "        return result\n",
    "\n",
    "    @staticmethod\n",
    "    def _make_bic_code(owner_code, serial):\n",
    "        return iso6346.create(\n",
    "            owner_code=owner_code,\n",
    "            serial=str(serial).zfill(6)\n",
    "        )\n",
    "\n",
    "    @classmethod\n",
    "    def create_empty(cls, owner_code):\n",
    "        return cls(owner_code, contents=[])\n",
    "\n",
    "    @classmethod\n",
    "    def create_with_items(cls, owner_code, items):\n",
    "        return cls(owner_code, contents=list(items))\n",
    "\n",
    "    def __init__(self, owner_code, contents):\n",
    "        self.owner_code = owner_code\n",
    "        self.contents = contents\n",
    "        self.bic = ShippingContainer._make_bic_code(\n",
    "            owner_code=owner_code,\n",
    "            serial=ShippingContainer._generate_serial()\n",
    "        )\n",
    "\n",
    "c1 = ShippingContainer('YML', ['Books'])\n",
    "print('c1 BIC Number:', c1.bic)\n",
    "print('c1 Owner:', c1.owner_code)\n",
    "print('c1 Contents:', c1.contents)\n",
    "print('')\n",
    "c2 = ShippingContainer('ESC', ['Electronics'])\n",
    "print('c2 BIC Number:', c2.bic)\n",
    "print('c2 Owner:', c2.owner_code)\n",
    "print('c2 Contents:', c2.contents)\n",
    "print('')\n",
    "# Creating a special custom instance using factory method which returns an instance\n",
    "c3 = ShippingContainer.create_empty('BFG')\n",
    "print('c3 BIC Number:', c3.bic)\n",
    "print('c3 Owner:', c3.owner_code)\n",
    "print('c3 Contents:', c3.contents)\n",
    "print('')\n",
    "c4 = ShippingContainer.create_with_items('ASF', {'Food', 'Eggs', 'Milk'})\n",
    "print('c4 BIC Number:', c4.bic)\n",
    "print('c4 Owner:', c4.owner_code)\n",
    "print('c4 Contents:', c4.contents)"
   ]
  },
  {
   "cell_type": "markdown",
   "metadata": {},
   "source": [
    "### Static Method with inheritance\n",
    "- The 4th letter in bic code specify unclassified.\n",
    "- Lets introduce a inherited container, this will take all properties of container but will have 4th letter as 'R'\n",
    "- For the purpose we will use category argument of iso6346 create function."
   ]
  },
  {
   "cell_type": "code",
   "execution_count": 15,
   "metadata": {},
   "outputs": [
    {
     "name": "stdout",
     "output_type": "stream",
     "text": [
      "r1 BIC Number: YMLU0013374\n",
      "r1 Owner: YML\n",
      "r1 Contents: ['Fish']\n"
     ]
    }
   ],
   "source": [
    "class ShippingContainer:\n",
    "\n",
    "    next_serial = 1337\n",
    "\n",
    "    @classmethod\n",
    "    def _generate_serial(cls):\n",
    "        result = cls.next_serial\n",
    "        cls.next_serial += 1\n",
    "        return result\n",
    "\n",
    "    @staticmethod\n",
    "    def _make_bic_code(owner_code, serial):\n",
    "        return iso6346.create(\n",
    "            owner_code=owner_code,\n",
    "            serial=str(serial).zfill(6)\n",
    "        )\n",
    "\n",
    "    @classmethod\n",
    "    def create_empty(cls, owner_code):\n",
    "        return cls(owner_code, contents=[])\n",
    "\n",
    "    @classmethod\n",
    "    def create_with_items(cls, owner_code, items):\n",
    "        return cls(owner_code, contents=list(items))\n",
    "\n",
    "    def __init__(self, owner_code, contents):\n",
    "        self.owner_code = owner_code\n",
    "        self.contents = contents\n",
    "        self.bic = ShippingContainer._make_bic_code(\n",
    "            owner_code=owner_code,\n",
    "            serial=ShippingContainer._generate_serial()\n",
    "        )\n",
    "        \n",
    "# Inheritting ShippingContainer\n",
    "class RefrigeratedShippingContainer(ShippingContainer):\n",
    "    # Method overriding\n",
    "    @staticmethod\n",
    "    def _make_bic_code(owner_code, serial):\n",
    "        return iso6346.create(\n",
    "            owner_code=owner_code,\n",
    "            serial=str(serial).zfill(6),\n",
    "            category='R'\n",
    "        )\n",
    "    \n",
    "r1 = RefrigeratedShippingContainer('YML', ['Fish'])\n",
    "print('r1 BIC Number:', r1.bic)\n",
    "print('r1 Owner:', r1.owner_code)\n",
    "print('r1 Contents:', r1.contents)"
   ]
  },
  {
   "cell_type": "markdown",
   "metadata": {},
   "source": [
    "<b>Why It didn't worked??</b><br>\n",
    "Because init method specifically specified that we use mekebiccode method of ShippingContainer Class and not the overridden method.<br>\n",
    "<b>For polymorphic dispatch invoke static method through self<b>"
   ]
  },
  {
   "cell_type": "code",
   "execution_count": 16,
   "metadata": {},
   "outputs": [
    {
     "name": "stdout",
     "output_type": "stream",
     "text": [
      "r1 BIC Number: YMLR0013372\n",
      "r1 Owner: YML\n",
      "r1 Contents: ['Fish']\n"
     ]
    }
   ],
   "source": [
    "class ShippingContainer:\n",
    "    next_serial = 1337\n",
    "    @classmethod\n",
    "    def _generate_serial(cls):\n",
    "        result = cls.next_serial\n",
    "        cls.next_serial += 1\n",
    "        return result\n",
    "    @staticmethod\n",
    "    def _make_bic_code(owner_code, serial):\n",
    "        return iso6346.create(\n",
    "            owner_code=owner_code,\n",
    "            serial=str(serial).zfill(6)\n",
    "        )\n",
    "    @classmethod\n",
    "    def create_empty(cls, owner_code):\n",
    "        return cls(owner_code, contents=[])\n",
    "    @classmethod\n",
    "    def create_with_items(cls, owner_code, items):\n",
    "        return cls(owner_code, contents=list(items))\n",
    "    def __init__(self, owner_code, contents):\n",
    "        self.owner_code = owner_code\n",
    "        self.contents = contents\n",
    "        # Using self below so that overridden function can be used\n",
    "        # I am still using ShippingContainer._generate_serial because I want next_serial to get updated even if I initialize a refrigerated shipping container.\n",
    "        self.bic = self._make_bic_code(\n",
    "            owner_code=owner_code,\n",
    "            serial=ShippingContainer._generate_serial()\n",
    "        )\n",
    "\n",
    "# Inheritting ShippingContainer\n",
    "class RefrigeratedShippingContainer(ShippingContainer):\n",
    "    # Method overriding\n",
    "    @staticmethod\n",
    "    def _make_bic_code(owner_code, serial):\n",
    "        return iso6346.create(\n",
    "            owner_code=owner_code,\n",
    "            serial=str(serial).zfill(6),\n",
    "            category='R'\n",
    "        )\n",
    "    \n",
    "r1 = RefrigeratedShippingContainer('YML', ['Fish'])\n",
    "print('r1 BIC Number:', r1.bic)\n",
    "print('r1 Owner:', r1.owner_code)\n",
    "print('r1 Contents:', r1.contents)"
   ]
  },
  {
   "cell_type": "markdown",
   "metadata": {},
   "source": [
    "<b>Few pointers about functions argument:</b>\n",
    "- *args are used for positional arguments, these will give out list of undefined positional arguments.\n",
    "- ** kwargs are used for undefined key word arguments, these will be given as dict.\n",
    "- def func(a, *, b) here *, means that beyond this point only keyword arguments can be defined."
   ]
  },
  {
   "cell_type": "markdown",
   "metadata": {},
   "source": [
    "### Class Method with inheritance\n",
    "These methods works just fine with sub classes, calling create_empty will create empty instance of Ref. shipping container because cls is passed as argument\n"
   ]
  },
  {
   "cell_type": "code",
   "execution_count": 17,
   "metadata": {},
   "outputs": [
    {
     "name": "stdout",
     "output_type": "stream",
     "text": [
      "c1 BIC Number: YMLU0013380\n",
      "c1 Owner: YML\n",
      "c1 Contents: []\n",
      "\n",
      "r2 BIC Number: ESCR0013391\n",
      "r2 Owner: ESC\n",
      "r2 Contents: []\n"
     ]
    },
    {
     "data": {
      "text/plain": [
       "<__main__.RefrigeratedShippingContainer at 0x1ca6f739cc8>"
      ]
     },
     "execution_count": 17,
     "metadata": {},
     "output_type": "execute_result"
    }
   ],
   "source": [
    "c1 = ShippingContainer.create_empty('YML')\n",
    "print('c1 BIC Number:', c1.bic)\n",
    "print('c1 Owner:', c1.owner_code)\n",
    "print('c1 Contents:', c1.contents)\n",
    "print('')\n",
    "r2 = RefrigeratedShippingContainer.create_empty('ESC')\n",
    "print('r2 BIC Number:', r2.bic)\n",
    "print('r2 Owner:', r2.owner_code)\n",
    "print('r2 Contents:', r2.contents)\n",
    "r2"
   ]
  },
  {
   "cell_type": "markdown",
   "metadata": {},
   "source": [
    "#### How to define attributes and constants for sub-classes"
   ]
  },
  {
   "cell_type": "code",
   "execution_count": 18,
   "metadata": {},
   "outputs": [
    {
     "name": "stdout",
     "output_type": "stream",
     "text": [
      "r1 BIC Number: YMLR0013372\n",
      "r1 Owner: YML\n",
      "r1 Contents: ['Fish']\n",
      "r1 Temprature: 3.2\n"
     ]
    }
   ],
   "source": [
    "# If we want to use extra arguments in our derived classes, we will have to use use **kwargs in factory methods so it doesn't throws error\n",
    "class ShippingContainer:\n",
    "    next_serial = 1337\n",
    "    @classmethod\n",
    "    def _generate_serial(cls):\n",
    "        result = cls.next_serial\n",
    "        cls.next_serial += 1\n",
    "        return result\n",
    "    @staticmethod\n",
    "    def _make_bic_code(owner_code, serial):\n",
    "        return iso6346.create(\n",
    "            owner_code=owner_code,\n",
    "            serial=str(serial).zfill(6)\n",
    "        )\n",
    "    # We are not using undefined keyword arguments in the base class, its just there to prevent error when we use factory method with derived classes.\n",
    "    @classmethod\n",
    "    def create_empty(cls, owner_code, **kwargs):\n",
    "        return cls(owner_code, contents=[], **kwargs)\n",
    "    @classmethod\n",
    "    def create_with_items(cls, owner_code, items, **kwargs):\n",
    "        return cls(owner_code, contents=list(items), **kwargs)\n",
    "    def __init__(self, owner_code, contents, **kwargs):\n",
    "        self.owner_code = owner_code\n",
    "        self.contents = contents\n",
    "        self.bic = self._make_bic_code(\n",
    "            owner_code=owner_code,\n",
    "            serial=ShippingContainer._generate_serial()\n",
    "        )\n",
    "\n",
    "\n",
    "class RefrigeratedShippingContainer(ShippingContainer):\n",
    "    \n",
    "    MAX_CELSIUS = 4\n",
    "    \n",
    "    @staticmethod\n",
    "    def _make_bic_code(owner_code, serial):\n",
    "        return iso6346.create(\n",
    "            owner_code=owner_code,\n",
    "            serial=str(serial).zfill(6),\n",
    "            category='R'\n",
    "        )\n",
    "    \n",
    "    # We will first call init of base class with super().init, then we can add the extra attributes to the instance\n",
    "    def __init__(self, owner_code, contents, *, celsius, **kwargs):\n",
    "        super().__init__(owner_code, contents, **kwargs)\n",
    "        if celsius > RefrigeratedShippingContainer.MAX_CELSIUS:\n",
    "            raise ValueError('Temprature is too hot!')\n",
    "        self.celsius = celsius\n",
    "\n",
    "r1 = RefrigeratedShippingContainer('YML', ['Fish'], celsius=3.2)\n",
    "print('r1 BIC Number:', r1.bic)\n",
    "print('r1 Owner:', r1.owner_code)\n",
    "print('r1 Contents:', r1.contents)\n",
    "print('r1 Temprature:', r1.celsius)"
   ]
  },
  {
   "cell_type": "code",
   "execution_count": 19,
   "metadata": {},
   "outputs": [
    {
     "name": "stdout",
     "output_type": "stream",
     "text": [
      "r1 Temprature: 12\n"
     ]
    }
   ],
   "source": [
    "# Vissible issue\n",
    "# While we are checking the temprature while initializing, it can still be modified later\n",
    "r1.celsius = 12\n",
    "print('r1 Temprature:', r1.celsius)"
   ]
  },
  {
   "cell_type": "markdown",
   "metadata": {},
   "source": [
    "How to make handle this problem?\n",
    "### Properties"
   ]
  },
  {
   "cell_type": "code",
   "execution_count": 20,
   "metadata": {},
   "outputs": [
    {
     "name": "stdout",
     "output_type": "stream",
     "text": [
      "r1 Temprature: 3.2\n"
     ]
    }
   ],
   "source": [
    "# A defined property acts as an attribute to a class which can be used to get an attribute which is not supposed for public use. (getter)\n",
    "# Defining property without defining its setter makes a read-only attribute.\n",
    "class ShippingContainer:\n",
    "    next_serial = 1337\n",
    "    @classmethod\n",
    "    def _generate_serial(cls):\n",
    "        result = cls.next_serial\n",
    "        cls.next_serial += 1\n",
    "        return result\n",
    "    @staticmethod\n",
    "    def _make_bic_code(owner_code, serial):\n",
    "        return iso6346.create(\n",
    "            owner_code=owner_code,\n",
    "            serial=str(serial).zfill(6)\n",
    "        )\n",
    "    # We are not using undefined keyword arguments in the base class, its just there to prevent error when we use factory method with derived classes.\n",
    "    @classmethod\n",
    "    def create_empty(cls, owner_code, **kwargs):\n",
    "        return cls(owner_code, contents=[], **kwargs)\n",
    "    @classmethod\n",
    "    def create_with_items(cls, owner_code, items, **kwargs):\n",
    "        return cls(owner_code, contents=list(items), **kwargs)\n",
    "    def __init__(self, owner_code, contents, **kwargs):\n",
    "        self.owner_code = owner_code\n",
    "        self.contents = contents\n",
    "        self.bic = self._make_bic_code(\n",
    "            owner_code=owner_code,\n",
    "            serial=ShippingContainer._generate_serial()\n",
    "        )\n",
    "\n",
    "\n",
    "class RefrigeratedShippingContainer(ShippingContainer):\n",
    "    MAX_CELSIUS = 4\n",
    "    \n",
    "    @staticmethod\n",
    "    def _make_bic_code(owner_code, serial):\n",
    "        return iso6346.create(\n",
    "            owner_code=owner_code,\n",
    "            serial=str(serial).zfill(6),\n",
    "            category='R'\n",
    "        )\n",
    "    \n",
    "    # We are using a property to return a attribute which is not meant for public access.\n",
    "    @property\n",
    "    def celsius(self):\n",
    "        return self._celsius\n",
    "    \n",
    "    def __init__(self, owner_code, contents, *, celsius, **kwargs):\n",
    "        super().__init__(owner_code, contents, **kwargs)\n",
    "        if celsius > RefrigeratedShippingContainer.MAX_CELSIUS:\n",
    "            raise ValueError('Temprature is too hot!')\n",
    "        # Using _celsius to indicate that this attribute should not be used for public access.\n",
    "        self._celsius = celsius\n",
    "\n",
    "r1 = RefrigeratedShippingContainer('YML', ['Fish'], celsius=3.2)\n",
    "print('r1 Temprature:', r1.celsius)\n",
    "\n",
    "# However if we try to assign value to r1.celsius we will get a 'cant set attribute error.'"
   ]
  },
  {
   "cell_type": "code",
   "execution_count": 21,
   "metadata": {},
   "outputs": [
    {
     "name": "stdout",
     "output_type": "stream",
     "text": [
      "r1 Temprature: 3.2\n",
      "updated r1 Temprature: -13\n"
     ]
    }
   ],
   "source": [
    "# Defining property setter\n",
    "class ShippingContainer:\n",
    "    next_serial = 1337\n",
    "    @classmethod\n",
    "    def _generate_serial(cls):\n",
    "        result = cls.next_serial\n",
    "        cls.next_serial += 1\n",
    "        return result\n",
    "    @staticmethod\n",
    "    def _make_bic_code(owner_code, serial):\n",
    "        return iso6346.create(\n",
    "            owner_code=owner_code,\n",
    "            serial=str(serial).zfill(6)\n",
    "        )\n",
    "    # We are not using undefined keyword arguments in the base class, its just there to prevent error when we use factory method with derived classes.\n",
    "    @classmethod\n",
    "    def create_empty(cls, owner_code, **kwargs):\n",
    "        return cls(owner_code, contents=[], **kwargs)\n",
    "    @classmethod\n",
    "    def create_with_items(cls, owner_code, items, **kwargs):\n",
    "        return cls(owner_code, contents=list(items), **kwargs)\n",
    "    def __init__(self, owner_code, contents, **kwargs):\n",
    "        self.owner_code = owner_code\n",
    "        self.contents = contents\n",
    "        self.bic = self._make_bic_code(\n",
    "            owner_code=owner_code,\n",
    "            serial=ShippingContainer._generate_serial()\n",
    "        )\n",
    "\n",
    "\n",
    "class RefrigeratedShippingContainer(ShippingContainer):\n",
    "    MAX_CELSIUS = 4\n",
    "    \n",
    "    @staticmethod\n",
    "    def _make_bic_code(owner_code, serial):\n",
    "        return iso6346.create(\n",
    "            owner_code=owner_code,\n",
    "            serial=str(serial).zfill(6),\n",
    "            category='R'\n",
    "        )\n",
    "    \n",
    "    # We are using a property to return a attribute which is not meant for public access.\n",
    "    @property\n",
    "    def celsius(self):\n",
    "        return self._celsius\n",
    "    \n",
    "    # We can define a setter for a property after defining a property.\n",
    "    # Using this we will we able to create a writable property.\n",
    "    # AND HERE we can define the property update conditions....which was our main issue\n",
    "    @celsius.setter\n",
    "    def celsius(self, value):\n",
    "        if value > RefrigeratedShippingContainer.MAX_CELSIUS:\n",
    "            raise ValueError('Temprature is too hot!')\n",
    "        self._celsius = value\n",
    "    \n",
    "    def __init__(self, owner_code, contents, *, celsius, **kwargs):\n",
    "        super().__init__(owner_code, contents, **kwargs)\n",
    "        # Removing the temprature validation here by directly assigning the value to property, as it will anyways do the validation.\n",
    "        self.celsius = celsius\n",
    "\n",
    "r1 = RefrigeratedShippingContainer('YML', ['Fish'], celsius=3.2)\n",
    "print('r1 Temprature:', r1.celsius)\n",
    "r1.celsius = -13\n",
    "print('updated r1 Temprature:', r1.celsius)\n",
    "# We will get the Temprature is too hot! error if it is >4 while updating the attribute now."
   ]
  },
  {
   "cell_type": "code",
   "execution_count": 22,
   "metadata": {},
   "outputs": [
    {
     "name": "stdout",
     "output_type": "stream",
     "text": [
      "r1 Temprature in fahrenheit: 32.0\n",
      "r1 Temprature in celsius: 0\n",
      "updated r1 Temprature in fahrenheit: 28.4\n",
      "updated r1 Temprature in celsius: -2.000000000000001\n"
     ]
    }
   ],
   "source": [
    "# Adding fahrenheit option to the derived class.\n",
    "class ShippingContainer:\n",
    "    next_serial = 1337\n",
    "    @classmethod\n",
    "    def _generate_serial(cls):\n",
    "        result = cls.next_serial\n",
    "        cls.next_serial += 1\n",
    "        return result\n",
    "    @staticmethod\n",
    "    def _make_bic_code(owner_code, serial):\n",
    "        return iso6346.create(\n",
    "            owner_code=owner_code,\n",
    "            serial=str(serial).zfill(6)\n",
    "        )\n",
    "    @classmethod\n",
    "    def create_empty(cls, owner_code, **kwargs):\n",
    "        return cls(owner_code, contents=[], **kwargs)\n",
    "    @classmethod\n",
    "    def create_with_items(cls, owner_code, items, **kwargs):\n",
    "        return cls(owner_code, contents=list(items), **kwargs)\n",
    "    def __init__(self, owner_code, contents, **kwargs):\n",
    "        self.owner_code = owner_code\n",
    "        self.contents = contents\n",
    "        self.bic = self._make_bic_code(\n",
    "            owner_code=owner_code,\n",
    "            serial=ShippingContainer._generate_serial()\n",
    "        )\n",
    "\n",
    "\n",
    "class RefrigeratedShippingContainer(ShippingContainer):\n",
    "    MAX_CELSIUS = 4\n",
    "    @staticmethod\n",
    "    def _make_bic_code(owner_code, serial):\n",
    "        return iso6346.create(\n",
    "            owner_code=owner_code,\n",
    "            serial=str(serial).zfill(6),\n",
    "            category='R'\n",
    "        )\n",
    "    @property\n",
    "    def celsius(self):\n",
    "        return self._celsius\n",
    "    @celsius.setter\n",
    "    def celsius(self, value):\n",
    "        if value > RefrigeratedShippingContainer.MAX_CELSIUS:\n",
    "            raise ValueError('Temprature is too hot!')\n",
    "        self._celsius = value\n",
    "    \n",
    "    # Defining static functions here instead of normal global function as there functions are very specific to this derived class\n",
    "    @staticmethod\n",
    "    def _f_to_c(fahrenheit):\n",
    "        return (fahrenheit - 32) * 5/9\n",
    "    @staticmethod\n",
    "    def _c_to_f(celsius):\n",
    "        return celsius * 9/5 +32\n",
    "    \n",
    "    # We can get and set the temp in fahrenheit by converting it from/to celsius on the fly.\n",
    "    @property\n",
    "    def fahrenheit(self):\n",
    "        return RefrigeratedShippingContainer._c_to_f(self.celsius)\n",
    "    @fahrenheit.setter\n",
    "    def fahrenheit(self, value):\n",
    "        self.celsius = RefrigeratedShippingContainer._f_to_c(value)\n",
    "    \n",
    "    def __init__(self, owner_code, contents, *, celsius, **kwargs):\n",
    "        super().__init__(owner_code, contents, **kwargs)\n",
    "        self.celsius = celsius\n",
    "        \n",
    "r1 = RefrigeratedShippingContainer('YML', ['Fish'], celsius=0)\n",
    "print('r1 Temprature in fahrenheit:', r1.fahrenheit)\n",
    "print('r1 Temprature in celsius:', r1.celsius)\n",
    "r1.fahrenheit = 28.4\n",
    "print('updated r1 Temprature in fahrenheit:', r1.fahrenheit)\n",
    "print('updated r1 Temprature in celsius:', r1.celsius)"
   ]
  },
  {
   "cell_type": "markdown",
   "metadata": {},
   "source": [
    "### Properties and inheritance"
   ]
  },
  {
   "cell_type": "code",
   "execution_count": 23,
   "metadata": {},
   "outputs": [
    {
     "name": "stdout",
     "output_type": "stream",
     "text": [
      "volume of an empty 20ft length container: 1360.0\n"
     ]
    }
   ],
   "source": [
    "# Each container has a fixed height and width but different length\n",
    "# So, height and width would be class attribute while length would be instance attribute\n",
    "# Also defining a getter only property volume which calculates the volume of the container\n",
    "\n",
    "class ShippingContainer:\n",
    "    HEIGHT_FT = 8.5\n",
    "    WIDTH_FT = 8.0\n",
    "    \n",
    "    next_serial = 1337\n",
    "    @classmethod\n",
    "    def _generate_serial(cls):\n",
    "        result = cls.next_serial\n",
    "        cls.next_serial += 1\n",
    "        return result\n",
    "    @staticmethod\n",
    "    def _make_bic_code(owner_code, serial):\n",
    "        return iso6346.create(\n",
    "            owner_code=owner_code,\n",
    "            serial=str(serial).zfill(6)\n",
    "        )\n",
    "    @classmethod\n",
    "    def create_empty(cls, owner_code, length_ft, **kwargs):\n",
    "        return cls(owner_code, length_ft, contents=[], **kwargs)\n",
    "    @classmethod\n",
    "    def create_with_items(cls, owner_code, length_ft, items, **kwargs):\n",
    "        return cls(owner_code, length_ft, contents=list(items), **kwargs)\n",
    "    \n",
    "    @property\n",
    "    def volume_ft3(self):\n",
    "        return ShippingContainer.HEIGHT_FT * ShippingContainer.WIDTH_FT * self.length_ft\n",
    "    \n",
    "    def __init__(self, owner_code, length_ft, contents, **kwargs):\n",
    "        self.owner_code = owner_code\n",
    "        self.contents = contents\n",
    "        self.length_ft = length_ft\n",
    "        self.bic = self._make_bic_code(\n",
    "            owner_code=owner_code,\n",
    "            serial=ShippingContainer._generate_serial()\n",
    "        )\n",
    "\n",
    "\n",
    "class RefrigeratedShippingContainer(ShippingContainer):\n",
    "    MAX_CELSIUS = 4\n",
    "    @staticmethod\n",
    "    def _make_bic_code(owner_code, serial):\n",
    "        return iso6346.create(\n",
    "            owner_code=owner_code,\n",
    "            serial=str(serial).zfill(6),\n",
    "            category='R'\n",
    "        )\n",
    "    @property\n",
    "    def celsius(self):\n",
    "        return self._celsius\n",
    "    @celsius.setter\n",
    "    def celsius(self, value):\n",
    "        if value > RefrigeratedShippingContainer.MAX_CELSIUS:\n",
    "            raise ValueError('Temprature is too hot!')\n",
    "        self._celsius = value\n",
    "    @staticmethod\n",
    "    def _f_to_c(fahrenheit):\n",
    "        return (fahrenheit - 32) * 5/9\n",
    "    @staticmethod\n",
    "    def _c_to_f(celsius):\n",
    "        return celsius * 9/5 +32\n",
    "    @property\n",
    "    def fahrenheit(self):\n",
    "        return RefrigeratedShippingContainer._c_to_f(self.celsius)\n",
    "    @fahrenheit.setter\n",
    "    def fahrenheit(self, value):\n",
    "        self.celsius = RefrigeratedShippingContainer._f_to_c(value)\n",
    "    def __init__(self, owner_code, contents, *, celsius, **kwargs):\n",
    "        super().__init__(owner_code, contents, **kwargs)\n",
    "        self.celsius = celsius\n",
    "        \n",
    "c1 = ShippingContainer.create_empty('YML', length_ft=20)\n",
    "print('volume of an empty 20ft length container:', c1.volume_ft3)"
   ]
  },
  {
   "cell_type": "code",
   "execution_count": 24,
   "metadata": {},
   "outputs": [
    {
     "name": "stdout",
     "output_type": "stream",
     "text": [
      "volume of an empty 20ft length refrigerated container: 1260.0\n"
     ]
    }
   ],
   "source": [
    "# For refrigerated derived class we will have to specify the 100 sqft space which is taken by the cooling machine.\n",
    "# To override property getter we will simply have to redefine in derived class.\n",
    "class ShippingContainer:\n",
    "    HEIGHT_FT = 8.5\n",
    "    WIDTH_FT = 8.0\n",
    "    \n",
    "    next_serial = 1337\n",
    "    @classmethod\n",
    "    def _generate_serial(cls):\n",
    "        result = cls.next_serial\n",
    "        cls.next_serial += 1\n",
    "        return result\n",
    "    @staticmethod\n",
    "    def _make_bic_code(owner_code, serial):\n",
    "        return iso6346.create(\n",
    "            owner_code=owner_code,\n",
    "            serial=str(serial).zfill(6)\n",
    "        )\n",
    "    @classmethod\n",
    "    def create_empty(cls, owner_code, length_ft, **kwargs):\n",
    "        return cls(owner_code, length_ft, contents=[], **kwargs)\n",
    "    @classmethod\n",
    "    def create_with_items(cls, owner_code, length_ft, items, **kwargs):\n",
    "        return cls(owner_code, length_ft, contents=list(items), **kwargs)\n",
    "    \n",
    "    @property\n",
    "    def volume_ft3(self):\n",
    "        return ShippingContainer.HEIGHT_FT * ShippingContainer.WIDTH_FT * self.length_ft\n",
    "    \n",
    "    def __init__(self, owner_code, length_ft, contents, **kwargs):\n",
    "        self.owner_code = owner_code\n",
    "        self.contents = contents\n",
    "        self.length_ft = length_ft\n",
    "        self.bic = self._make_bic_code(\n",
    "            owner_code=owner_code,\n",
    "            serial=ShippingContainer._generate_serial()\n",
    "        )\n",
    "\n",
    "\n",
    "class RefrigeratedShippingContainer(ShippingContainer):\n",
    "    FRIDGE_VOLUME_FT3 = 100\n",
    "    \n",
    "    MAX_CELSIUS = 4\n",
    "    @staticmethod\n",
    "    def _make_bic_code(owner_code, serial):\n",
    "        return iso6346.create(\n",
    "            owner_code=owner_code,\n",
    "            serial=str(serial).zfill(6),\n",
    "            category='R'\n",
    "        )\n",
    "    @property\n",
    "    def celsius(self):\n",
    "        return self._celsius\n",
    "    @celsius.setter\n",
    "    def celsius(self, value):\n",
    "        if value > RefrigeratedShippingContainer.MAX_CELSIUS:\n",
    "            raise ValueError('Temprature is too hot!')\n",
    "        self._celsius = value\n",
    "    @staticmethod\n",
    "    def _f_to_c(fahrenheit):\n",
    "        return (fahrenheit - 32) * 5/9\n",
    "    @staticmethod\n",
    "    def _c_to_f(celsius):\n",
    "        return celsius * 9/5 +32\n",
    "    @property\n",
    "    def fahrenheit(self):\n",
    "        return RefrigeratedShippingContainer._c_to_f(self.celsius)\n",
    "    @fahrenheit.setter\n",
    "    def fahrenheit(self, value):\n",
    "        self.celsius = RefrigeratedShippingContainer._f_to_c(value)\n",
    "        \n",
    "    # Call the parent/super property and then do the further needed modification\n",
    "    @property\n",
    "    def volume_ft3(self):\n",
    "        return super().volume_ft3 - RefrigeratedShippingContainer.FRIDGE_VOLUME_FT3\n",
    "    \n",
    "    def __init__(self, owner_code, length_ft, contents, *, celsius, **kwargs):\n",
    "        super().__init__(owner_code, length_ft, contents, **kwargs)\n",
    "        self.celsius = celsius\n",
    "        \n",
    "r1 = RefrigeratedShippingContainer.create_empty('YML', length_ft=20, celsius=2)\n",
    "print('volume of an empty 20ft length refrigerated container:', r1.volume_ft3)"
   ]
  },
  {
   "cell_type": "code",
   "execution_count": 25,
   "metadata": {},
   "outputs": [],
   "source": [
    "# Overriding a setter is much more complicated\n",
    "# Lets define a heated container which also has a lower limit for temprature.\n",
    "\n",
    "class HeatedRefrigeratedShippingContainer(RefrigeratedShippingContainer):\n",
    "    \n",
    "    MIN_CELSIUS = -20\n",
    "    \n",
    "    # @celsisus.setter will throw error as celsius property is not in bound\n",
    "    @RefrigeratedShippingContainer.celsius.setter\n",
    "    def celsius(self, value):\n",
    "        if value < HeatedRefrigeratedShippingContainer.MIN_CELSIUS:\n",
    "            raise ValueError('Temprature too cold!')\n",
    "        # super().celsius = value doesn't work for some reason\n",
    "        # Setting celsius through RefrigeratedShippingContainer will check for the upper limit condition also\n",
    "        RefrigeratedShippingContainer.celsius.fset(self, value)"
   ]
  },
  {
   "cell_type": "markdown",
   "metadata": {},
   "source": [
    "As we can see overriding these setters can get messy.<br>\n",
    "<b> We can use template method to override properties instead</b><br>\n",
    "According to which we should never override properties, we should always delegate them to regular methods and then override them instead."
   ]
  },
  {
   "cell_type": "code",
   "execution_count": 26,
   "metadata": {},
   "outputs": [],
   "source": [
    "# We will override the method instead of properties\n",
    "class ShippingContainer:\n",
    "    HEIGHT_FT = 8.5\n",
    "    WIDTH_FT = 8.0\n",
    "    \n",
    "    next_serial = 1337\n",
    "    @classmethod\n",
    "    def _generate_serial(cls):\n",
    "        result = cls.next_serial\n",
    "        cls.next_serial += 1\n",
    "        return result\n",
    "    @staticmethod\n",
    "    def _make_bic_code(owner_code, serial):\n",
    "        return iso6346.create(\n",
    "            owner_code=owner_code,\n",
    "            serial=str(serial).zfill(6)\n",
    "        )\n",
    "    @classmethod\n",
    "    def create_empty(cls, owner_code, length_ft, **kwargs):\n",
    "        return cls(owner_code, length_ft, contents=[], **kwargs)\n",
    "    @classmethod\n",
    "    def create_with_items(cls, owner_code, length_ft, items, **kwargs):\n",
    "        return cls(owner_code, length_ft, contents=list(items), **kwargs)\n",
    "    \n",
    "    @property\n",
    "    def volume_ft3(self):\n",
    "        return self._calc_volume()\n",
    "\n",
    "    def _calc_volume(self):\n",
    "        return ShippingContainer.HEIGHT_FT * ShippingContainer.WIDTH_FT * self.length_ft\n",
    "    \n",
    "    def __init__(self, owner_code, length_ft, contents, **kwargs):\n",
    "        self.owner_code = owner_code\n",
    "        self.contents = contents\n",
    "        self.length_ft = length_ft\n",
    "        self.bic = self._make_bic_code(\n",
    "            owner_code=owner_code,\n",
    "            serial=ShippingContainer._generate_serial()\n",
    "        )\n",
    "\n",
    "\n",
    "class RefrigeratedShippingContainer(ShippingContainer):\n",
    "    FRIDGE_VOLUME_FT3 = 100\n",
    "    \n",
    "    MAX_CELSIUS = 4\n",
    "    @staticmethod\n",
    "    def _make_bic_code(owner_code, serial):\n",
    "        return iso6346.create(\n",
    "            owner_code=owner_code,\n",
    "            serial=str(serial).zfill(6),\n",
    "            category='R'\n",
    "        )\n",
    "    @property\n",
    "    def celsius(self):\n",
    "        return self._celsius\n",
    "    @celsius.setter\n",
    "    def celsius(self, value):\n",
    "        return self._set_celsius(value)\n",
    "    \n",
    "    # Making normal method to override rather than to override setter\n",
    "    def _set_celsius(self, value):\n",
    "        if value > RefrigeratedShippingContainer.MAX_CELSIUS:\n",
    "            raise ValueError('Temprature is too hot!')\n",
    "        self._celsius = value\n",
    "    \n",
    "    @staticmethod\n",
    "    def _f_to_c(fahrenheit):\n",
    "        return (fahrenheit - 32) * 5/9\n",
    "    @staticmethod\n",
    "    def _c_to_f(celsius):\n",
    "        return celsius * 9/5 +32\n",
    "    @property\n",
    "    def fahrenheit(self):\n",
    "        return RefrigeratedShippingContainer._c_to_f(self.celsius)\n",
    "    @fahrenheit.setter\n",
    "    def fahrenheit(self, value):\n",
    "        self.celsius = RefrigeratedShippingContainer._f_to_c(value)\n",
    "\n",
    "    # Overriding method instead of property\n",
    "    def _calc_volume(self):\n",
    "        return super()._calc_volume() - RefrigeratedShippingContainer.FRIDGE_VOLUME_FT3\n",
    "    \n",
    "    def __init__(self, owner_code, length_ft, contents, *, celsius, **kwargs):\n",
    "        super().__init__(owner_code, length_ft, contents, **kwargs)\n",
    "        self.celsius = celsius\n",
    "        \n",
    "class HeatedRefrigeratedShippingContainer(RefrigeratedShippingContainer):\n",
    "    MIN_CELSIUS = -20\n",
    "    \n",
    "    def _set_celsius(self, value):\n",
    "        if value < HeatedRefrigeratedShippingContainer.MIN_CELSIUS:\n",
    "            raise ValueError('Temprature too cold!')\n",
    "        super()._set_celsius(value)"
   ]
  },
  {
   "cell_type": "code",
   "execution_count": 27,
   "metadata": {},
   "outputs": [
    {
     "name": "stdout",
     "output_type": "stream",
     "text": [
      "volume of an empty 20ft length container: 1360.0\n",
      "volume of an empty 20ft length refrigerated container: 1260.0\n"
     ]
    }
   ],
   "source": [
    "c1 = ShippingContainer.create_empty('YML', length_ft=20)\n",
    "print('volume of an empty 20ft length container:', c1.volume_ft3)\n",
    "r1 = RefrigeratedShippingContainer.create_empty('YML', length_ft=20, celsius=2)\n",
    "print('volume of an empty 20ft length refrigerated container:', r1.volume_ft3)"
   ]
  },
  {
   "cell_type": "code",
   "execution_count": 28,
   "metadata": {},
   "outputs": [
    {
     "name": "stdout",
     "output_type": "stream",
     "text": [
      "Temprature is too hot!\n",
      "Temprature too cold!\n"
     ]
    }
   ],
   "source": [
    "try:\n",
    "    r1 = HeatedRefrigeratedShippingContainer.create_empty('YML', length_ft=20, celsius=5)\n",
    "except ValueError as e:\n",
    "    print(e)\n",
    "try:\n",
    "    r1 = HeatedRefrigeratedShippingContainer.create_empty('YML', length_ft=20, celsius=-25)\n",
    "except ValueError as e:\n",
    "    print(e)"
   ]
  }
 ],
 "metadata": {
  "kernelspec": {
   "display_name": "Python 3",
   "language": "python",
   "name": "python3"
  },
  "language_info": {
   "codemirror_mode": {
    "name": "ipython",
    "version": 3
   },
   "file_extension": ".py",
   "mimetype": "text/x-python",
   "name": "python",
   "nbconvert_exporter": "python",
   "pygments_lexer": "ipython3",
   "version": "3.7.6"
  }
 },
 "nbformat": 4,
 "nbformat_minor": 4
}
