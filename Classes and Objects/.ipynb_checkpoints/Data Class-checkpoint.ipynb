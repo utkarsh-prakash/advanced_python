{
 "cells": [
  {
   "cell_type": "markdown",
   "metadata": {},
   "source": [
    "Data Class can be defined as classes which are only meant to store data.<br>\n",
    "- These classes can be cutomised to compare and hash data."
   ]
  },
  {
   "cell_type": "code",
   "execution_count": 1,
   "metadata": {},
   "outputs": [],
   "source": [
    "def typename(obj):\n",
    "    return type(obj).__name__"
   ]
  },
  {
   "cell_type": "code",
   "execution_count": 2,
   "metadata": {},
   "outputs": [],
   "source": [
    "class Position:\n",
    "    def __init__(self, latitude, longitude):\n",
    "        if not (-90 <= latitude <= +90):\n",
    "            raise ValueError(f\"Latitude {latitude} out of range\")\n",
    "\n",
    "        if not (-180 <= longitude <= +180):\n",
    "            raise ValueError(f\"Longitude {longitude} out of range\")\n",
    "\n",
    "        self._latitude = latitude\n",
    "        self._longitude = longitude\n",
    "\n",
    "    @property\n",
    "    def latitude(self):\n",
    "        return self._latitude\n",
    "\n",
    "    @property\n",
    "    def longitude(self):\n",
    "        return self._longitude\n",
    "\n",
    "    @property\n",
    "    def latitude_hemisphere(self):\n",
    "        return \"N\" if self.latitude >= 0 else \"S\"\n",
    "\n",
    "    @property\n",
    "    def longitude_hemisphere(self):\n",
    "        return \"E\" if self.longitude >= 0 else \"W\"\n",
    "\n",
    "    def __repr__(self):\n",
    "        return f\"{typename(self)}(latitude={self.latitude}, longitude={self.longitude})\"\n",
    "\n",
    "    def __str__(self):\n",
    "        return format(self)\n",
    "\n",
    "    def __format__(self, format_spec):\n",
    "        component_format_spec = \".2f\"\n",
    "        prefix, dot, suffix = format_spec.partition(\".\")\n",
    "        if dot:\n",
    "            num_decimal_places = int(suffix)\n",
    "            component_format_spec = f\".{num_decimal_places}f\"\n",
    "        latitude = format(abs(self.latitude), component_format_spec)\n",
    "        longitude = format(abs(self.longitude), component_format_spec)\n",
    "        return (\n",
    "            f\"{latitude}° {self.latitude_hemisphere}, \"\n",
    "            f\"{longitude}° {self.longitude_hemisphere}\"\n",
    "        )\n",
    "\n",
    "    def __eq__(self, other):\n",
    "        if not isinstance(other, type(self)):\n",
    "            return NotImplemented\n",
    "        return (self.latitude == other.latitude) and (self.longitude == other.longitude)\n",
    "\n",
    "    def __hash__(self):\n",
    "        return hash((self.latitude, self.longitude))\n",
    "\n",
    "class EarthPosition(Position):\n",
    "    pass\n",
    "\n",
    "class MarsPosition(Position):\n",
    "    pass\n"
   ]
  },
  {
   "cell_type": "code",
   "execution_count": 3,
   "metadata": {},
   "outputs": [],
   "source": [
    "from dataclasses import dataclass\n",
    "\n",
    "# We can create data classes with inbuilt dataclass decorator\n",
    "@dataclass(eq=True)\n",
    "class Location:\n",
    "    # Specifying the instance type of the arguments are optional \n",
    "    name: str\n",
    "    position: Position\n",
    "\n",
    "\n",
    "hong_kong = Location(\"Hong Kong\", EarthPosition(22.29, 114.16))\n",
    "stockholm = Location(\"Stockholm\", EarthPosition(59.33, 18.06))\n",
    "cape_town = Location(\"Cape Town\", EarthPosition(-33.93, 18.42))\n",
    "rotterdam = Location(\"Rotterdam\", EarthPosition(51.96, 4.47))\n",
    "maracaibo = Location(\"Maracaibo\", EarthPosition(10.65, -71.65))"
   ]
  },
  {
   "cell_type": "code",
   "execution_count": 4,
   "metadata": {},
   "outputs": [
    {
     "data": {
      "text/plain": [
       "True"
      ]
     },
     "execution_count": 4,
     "metadata": {},
     "output_type": "execute_result"
    }
   ],
   "source": [
    "# Because we passed eq = True we can compare two data classes and see if they are equal, which was not possible earlier\n",
    "# Note: For the purpose we also have to define __eq__ on position class to tell python when can 2 positions be equal\n",
    "rsa_city = Location(\"Cape Town\", EarthPosition(-33.93, 18.42))\n",
    "\n",
    "rsa_city == cape_town"
   ]
  },
  {
   "cell_type": "code",
   "execution_count": 5,
   "metadata": {},
   "outputs": [
    {
     "data": {
      "text/plain": [
       "Location(name='Cape Town', position=EarthPosition(latitude=-33.93, longitude=18.42))"
      ]
     },
     "execution_count": 5,
     "metadata": {},
     "output_type": "execute_result"
    }
   ],
   "source": [
    "# dataclass decorator creates the desired __repr__ for classes by default\n",
    "cape_town"
   ]
  },
  {
   "cell_type": "markdown",
   "metadata": {},
   "source": [
    "### Hashing\n",
    "Hashing is used when we define sets and dictionary, all the attributes are stored as hash"
   ]
  },
  {
   "cell_type": "code",
   "execution_count": 6,
   "metadata": {},
   "outputs": [
    {
     "name": "stdout",
     "output_type": "stream",
     "text": [
      "unhashable type: 'Location'\n"
     ]
    }
   ],
   "source": [
    "try:\n",
    "    set_of_locations = {cape_town, hong_kong, rotterdam}\n",
    "except Exception as e:\n",
    "    print(e)"
   ]
  },
  {
   "cell_type": "markdown",
   "metadata": {},
   "source": [
    "### Hashing\n",
    "Although dataclass does have an attribute unsafe_hash = True, its not recommended.<br>\n",
    "For dataclass to automatically make our dataclass hashable we have to do three things.<br>\n",
    "- Use immutable attribute types, str int tuples...\n",
    "- declare the dataset as frozen(immutable), frozen=True\n",
    "- define __ hash__ for Position class\n"
   ]
  },
  {
   "cell_type": "code",
   "execution_count": 7,
   "metadata": {},
   "outputs": [],
   "source": [
    "@dataclass(eq=True, frozen=True)\n",
    "class Location:\n",
    "    name: str\n",
    "    position: Position\n",
    "\n",
    "\n",
    "hong_kong = Location(\"Hong Kong\", EarthPosition(22.29, 114.16))\n",
    "stockholm = Location(\"Stockholm\", EarthPosition(59.33, 18.06))\n",
    "cape_town = Location(\"Cape Town\", EarthPosition(-33.93, 18.42))\n",
    "rotterdam = Location(\"Rotterdam\", EarthPosition(51.96, 4.47))\n",
    "maracaibo = Location(\"Maracaibo\", EarthPosition(10.65, -71.65))"
   ]
  },
  {
   "cell_type": "code",
   "execution_count": 8,
   "metadata": {},
   "outputs": [
    {
     "data": {
      "text/plain": [
       "{Location(name='Cape Town', position=EarthPosition(latitude=-33.93, longitude=18.42)),\n",
       " Location(name='Hong Kong', position=EarthPosition(latitude=22.29, longitude=114.16)),\n",
       " Location(name='Rotterdam', position=EarthPosition(latitude=51.96, longitude=4.47))}"
      ]
     },
     "execution_count": 8,
     "metadata": {},
     "output_type": "execute_result"
    }
   ],
   "source": [
    "set_of_locations = {cape_town, hong_kong, rotterdam}\n",
    "set_of_locations"
   ]
  },
  {
   "cell_type": "markdown",
   "metadata": {},
   "source": [
    "### Dataclass invariants\n",
    "The main upper hand of classes over other datastructures is the capacity to validate the values stored.<br>\n",
    "There is a way to do this in dataclass without overriding the init method"
   ]
  },
  {
   "cell_type": "code",
   "execution_count": 10,
   "metadata": {},
   "outputs": [
    {
     "name": "stdout",
     "output_type": "stream",
     "text": [
      "Location name cannot be empty\n"
     ]
    }
   ],
   "source": [
    "# Post_init runs just after initializing the class\n",
    "@dataclass(eq=True, frozen=True)\n",
    "class Location:\n",
    "    name: str\n",
    "    position: Position\n",
    "\n",
    "    def __post_init__(self):\n",
    "        if self.name == \"\":\n",
    "            raise ValueError(\"Location name cannot be empty\")\n",
    "\n",
    "try:\n",
    "    null_island = Location(\"\", Position(0.0, 0.0))\n",
    "except Exception as e:\n",
    "    print(e)"
   ]
  },
  {
   "cell_type": "markdown",
   "metadata": {},
   "source": [
    "<b>Why Class attributes should be immutable</b>\n"
   ]
  },
  {
   "cell_type": "code",
   "execution_count": 11,
   "metadata": {},
   "outputs": [
    {
     "data": {
      "text/plain": [
       "Location(name='', position=Position(latitude=0.0, longitude=0.0))"
      ]
     },
     "execution_count": 11,
     "metadata": {},
     "output_type": "execute_result"
    }
   ],
   "source": [
    "# Lets try to do the same thing with frozen=False\n",
    "@dataclass(eq=True, frozen=False)\n",
    "class Location:\n",
    "    name: str\n",
    "    position: Position\n",
    "\n",
    "    def __post_init__(self):\n",
    "        if self.name == \"\":\n",
    "            raise ValueError(\"Location name cannot be empty\")\n",
    "\n",
    "null_island = Location(\"null_island\", Position(0.0, 0.0))\n",
    "# As attributes are not frozen we can change the name to empty string\n",
    "null_island.name = \"\"\n",
    "null_island"
   ]
  }
 ],
 "metadata": {
  "kernelspec": {
   "display_name": "Python 3",
   "language": "python",
   "name": "python3"
  },
  "language_info": {
   "codemirror_mode": {
    "name": "ipython",
    "version": 3
   },
   "file_extension": ".py",
   "mimetype": "text/x-python",
   "name": "python",
   "nbconvert_exporter": "python",
   "pygments_lexer": "ipython3",
   "version": "3.7.6"
  }
 },
 "nbformat": 4,
 "nbformat_minor": 4
}
