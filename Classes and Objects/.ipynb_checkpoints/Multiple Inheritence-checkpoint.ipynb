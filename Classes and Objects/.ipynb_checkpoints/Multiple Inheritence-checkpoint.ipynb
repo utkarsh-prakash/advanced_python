{
 "cells": [
  {
   "cell_type": "code",
   "execution_count": 1,
   "metadata": {},
   "outputs": [],
   "source": [
    "class SimpleList:\n",
    "    def __init__(self, items):\n",
    "        self._items = list(items)\n",
    "\n",
    "    def add(self, item):\n",
    "        self._items.append(item)\n",
    "\n",
    "    # This makes indexing and iteration possible\n",
    "    def __getitem__(self, index):\n",
    "        return self._items[index]\n",
    "\n",
    "    def sort(self):\n",
    "        self._items.sort()\n",
    "\n",
    "    def __len__(self):\n",
    "        return len(self._items)\n",
    "\n",
    "    def __repr__(self):\n",
    "        return f'{type(self).__name__}({self._items!r})'\n",
    "\n",
    "# If we want to have every functionality of base class and then further extend the functionality\n",
    "# we will have to first call super().__func__ and then extend the function\n",
    "class SortedList(SimpleList):\n",
    "    def __init__(self, items=()):\n",
    "        super().__init__(items)\n",
    "        self.sort()\n",
    "\n",
    "    def add(self, item):\n",
    "        super().add(item)\n",
    "        self.sort()"
   ]
  },
  {
   "cell_type": "code",
   "execution_count": 2,
   "metadata": {},
   "outputs": [
    {
     "data": {
      "text/plain": [
       "SortedList([3, 5, 25, 76, 90])"
      ]
     },
     "execution_count": 2,
     "metadata": {},
     "output_type": "execute_result"
    }
   ],
   "source": [
    "sl = SortedList([25, 3, 5, 90, 76])\n",
    "sl"
   ]
  },
  {
   "cell_type": "code",
   "execution_count": 3,
   "metadata": {},
   "outputs": [
    {
     "data": {
      "text/plain": [
       "SortedList([-40, 3, 5, 25, 76, 90])"
      ]
     },
     "execution_count": 3,
     "metadata": {},
     "output_type": "execute_result"
    }
   ],
   "source": [
    "sl.add(-40)\n",
    "sl"
   ]
  },
  {
   "cell_type": "code",
   "execution_count": 4,
   "metadata": {},
   "outputs": [
    {
     "data": {
      "text/plain": [
       "[1, 2, 4, 2, 7, 5]"
      ]
     },
     "execution_count": 4,
     "metadata": {},
     "output_type": "execute_result"
    }
   ],
   "source": [
    "class mutation(list):\n",
    "    def append(self, item):\n",
    "        super().append(item)\n",
    "        self.sort()\n",
    "a = mutation([1,2,4,2,7,5])\n",
    "a"
   ]
  },
  {
   "cell_type": "code",
   "execution_count": 5,
   "metadata": {},
   "outputs": [
    {
     "data": {
      "text/plain": [
       "[1, 2, 2, 4, 4, 5, 7]"
      ]
     },
     "execution_count": 5,
     "metadata": {},
     "output_type": "execute_result"
    }
   ],
   "source": [
    "# I changed the append method of list, not recommended\n",
    "# now every time we append something in list, it is sorted\n",
    "a.append(4)\n",
    "a"
   ]
  },
  {
   "cell_type": "markdown",
   "metadata": {},
   "source": [
    "<b> Checking class base </b>\n"
   ]
  },
  {
   "cell_type": "code",
   "execution_count": 6,
   "metadata": {},
   "outputs": [
    {
     "name": "stdout",
     "output_type": "stream",
     "text": [
      "True\n",
      "True\n",
      "False\n",
      "True\n"
     ]
    }
   ],
   "source": [
    "print(isinstance(sl, SortedList))\n",
    "print(isinstance(sl, SimpleList))\n",
    "print(isinstance(sl, list))\n",
    "print(isinstance(sl, (list, int, SortedList)))"
   ]
  },
  {
   "cell_type": "code",
   "execution_count": 7,
   "metadata": {},
   "outputs": [
    {
     "name": "stdout",
     "output_type": "stream",
     "text": [
      "True\n",
      "True\n"
     ]
    }
   ],
   "source": [
    "class MyInt(int):\n",
    "    pass\n",
    "class MySpecialInt(MyInt):\n",
    "    pass\n",
    "\n",
    "print(issubclass(MySpecialInt, MyInt))\n",
    "print(issubclass(MySpecialInt, int))"
   ]
  },
  {
   "cell_type": "code",
   "execution_count": 8,
   "metadata": {},
   "outputs": [],
   "source": [
    "class IntList(SimpleList):\n",
    "    def __init__(self, items=()):\n",
    "        for x in items: self._validate(x)\n",
    "        super().__init__(items)\n",
    "\n",
    "    @staticmethod\n",
    "    def _validate(x):\n",
    "        if not isinstance(x, int):\n",
    "            raise TypeError('IntList only supports integer values.')\n",
    "\n",
    "    def add(self, item):\n",
    "        self._validate(item)\n",
    "        super().add(item)\n",
    "\n",
    "\n",
    "# Multiple Inheritence\n",
    "class SortedIntList(IntList, SortedList):\n",
    "    pass"
   ]
  },
  {
   "cell_type": "code",
   "execution_count": 9,
   "metadata": {},
   "outputs": [
    {
     "data": {
      "text/plain": [
       "SortedIntList([2, 3, 5, 8])"
      ]
     },
     "execution_count": 9,
     "metadata": {},
     "output_type": "execute_result"
    }
   ],
   "source": [
    "sil = SortedIntList([2,8,3,5])\n",
    "sil\n",
    "# List is sorted"
   ]
  },
  {
   "cell_type": "code",
   "execution_count": 10,
   "metadata": {},
   "outputs": [
    {
     "name": "stdout",
     "output_type": "stream",
     "text": [
      "IntList only supports integer values.\n"
     ]
    }
   ],
   "source": [
    "try:\n",
    "    sil_invalid = SortedIntList([1,2,3,'4'])\n",
    "except TypeError as e:\n",
    "    print(e)\n",
    "# Int validation is also working fine"
   ]
  },
  {
   "cell_type": "code",
   "execution_count": 11,
   "metadata": {},
   "outputs": [
    {
     "data": {
      "text/plain": [
       "SortedIntList([2, 3, 5, 6, 8])"
      ]
     },
     "execution_count": 11,
     "metadata": {},
     "output_type": "execute_result"
    }
   ],
   "source": [
    "sil.add(6)\n",
    "sil\n",
    "# Add method of sorted list working"
   ]
  },
  {
   "cell_type": "code",
   "execution_count": 12,
   "metadata": {},
   "outputs": [
    {
     "name": "stdout",
     "output_type": "stream",
     "text": [
      "IntList only supports integer values.\n"
     ]
    }
   ],
   "source": [
    "try:\n",
    "    sil.add('7')\n",
    "except TypeError as e:\n",
    "    print(e)\n",
    "# Add method of IntList working"
   ]
  },
  {
   "cell_type": "markdown",
   "metadata": {},
   "source": [
    "What is the order in which methods of different base classes are called?<br>\n",
    "We will study about this in method resolution order."
   ]
  },
  {
   "cell_type": "code",
   "execution_count": 13,
   "metadata": {},
   "outputs": [
    {
     "name": "stdout",
     "output_type": "stream",
     "text": [
      "Base2.__init__\n"
     ]
    }
   ],
   "source": [
    "# Base class __init__\n",
    "class Base1:\n",
    "    def __init__(self):\n",
    "        print('Base1.__init__')\n",
    "class Base2:\n",
    "    def __init__(self):\n",
    "        print('Base2.__init__')\n",
    "        \n",
    "class Sub(Base2, Base1):\n",
    "    pass\n",
    "\n",
    "sub = Sub()"
   ]
  },
  {
   "cell_type": "markdown",
   "metadata": {},
   "source": [
    "** Initilaizer of only first base class is called, we will learn how to call both initializer using super() later<br>\n",
    "Also we have to inspect why both base class __ init__ worked correcty in case of SortedIntList"
   ]
  },
  {
   "cell_type": "code",
   "execution_count": 14,
   "metadata": {},
   "outputs": [
    {
     "data": {
      "text/plain": [
       "(__main__.Base2, __main__.Base1)"
      ]
     },
     "execution_count": 14,
     "metadata": {},
     "output_type": "execute_result"
    }
   ],
   "source": [
    "# Easy way to get base classes and there orders\n",
    "Sub.__bases__"
   ]
  },
  {
   "cell_type": "markdown",
   "metadata": {},
   "source": [
    "### Method Resolution Order (MRO)\n",
    "Ordering of an inheritence graph which determines which implementation to use when invoking a method."
   ]
  },
  {
   "cell_type": "code",
   "execution_count": 15,
   "metadata": {},
   "outputs": [
    {
     "data": {
      "text/plain": [
       "(__main__.SortedIntList,\n",
       " __main__.IntList,\n",
       " __main__.SortedList,\n",
       " __main__.SimpleList,\n",
       " object)"
      ]
     },
     "execution_count": 15,
     "metadata": {},
     "output_type": "execute_result"
    }
   ],
   "source": [
    "SortedIntList.__mro__"
   ]
  },
  {
   "cell_type": "code",
   "execution_count": 16,
   "metadata": {},
   "outputs": [],
   "source": [
    "class A:\n",
    "    def func(self):\n",
    "        return 'A.func'\n",
    "\n",
    "class B(A):\n",
    "    def func(self):\n",
    "        return 'B.func'\n",
    "\n",
    "class C(A):\n",
    "    def func(self):\n",
    "        return 'C.func'\n",
    "\n",
    "class D(C, B):\n",
    "    pass"
   ]
  },
  {
   "cell_type": "code",
   "execution_count": 17,
   "metadata": {},
   "outputs": [
    {
     "data": {
      "text/plain": [
       "(__main__.D, __main__.C, __main__.B, __main__.A, object)"
      ]
     },
     "execution_count": 17,
     "metadata": {},
     "output_type": "execute_result"
    }
   ],
   "source": [
    "# Python will start looking for called method in same order till it finds it.\n",
    "D.__mro__"
   ]
  },
  {
   "cell_type": "code",
   "execution_count": 18,
   "metadata": {},
   "outputs": [
    {
     "data": {
      "text/plain": [
       "(__main__.C, __main__.A, object)"
      ]
     },
     "execution_count": 18,
     "metadata": {},
     "output_type": "execute_result"
    }
   ],
   "source": [
    "C.__mro__"
   ]
  },
  {
   "cell_type": "markdown",
   "metadata": {},
   "source": [
    "<b> Why was sortedIntList both sorted and validated???</b><br>\n",
    "The answer lies in how super() works"
   ]
  },
  {
   "cell_type": "code",
   "execution_count": 19,
   "metadata": {},
   "outputs": [
    {
     "name": "stdout",
     "output_type": "stream",
     "text": [
      "Cannot create a consistent method resolution\n",
      "order (MRO) for bases A, C\n"
     ]
    }
   ],
   "source": [
    "# MRO creation uses C3, which works on folowing priciples\n",
    "# Subclasses will always come before base classes\n",
    "# Base class order from class definition is preserved\n",
    "\n",
    "try:\n",
    "    class A: pass\n",
    "    class B(A): pass\n",
    "    class C(A): pass\n",
    "    class D(B, A, C): pass\n",
    "except Exception as e:\n",
    "    print(e)\n",
    "    \n",
    "# According to first rule C should always come before A, according to second rule of class definition, C should come aftter A\n",
    "# As there is a conflict, python will not allow this inheritence"
   ]
  },
  {
   "cell_type": "markdown",
   "metadata": {},
   "source": [
    "### super()\n",
    "Given an MRO and a class C in that MRO, super() gives you an object which resolves methods using only the part of the MRO which comes after C.<br>\n",
    "So, super() works with the MRO of the class and not just base classes.<br>\n",
    "- Two arguments are passed when we call super(), the class from where itself on MRO, so it can trim MRO to resolve method call.\n",
    "- i.e. super() looks for MRO of class it is called from and start looking for methods starting from first base onwards.<br><br><br>\n",
    "<b>So why SortedIntList worked the way it worked?</b><br>\n",
    "Because super() doesn't just call the base class it calls the class next on MRO.<br>\n",
    "- super() from SortedIntList will call IntList.\n",
    "- Inside IntList __ init__ we again encounter super() but it will also look for the <b>next class on the MRO of SortedIntList</b> and not Intlist, i.e. super call from here will deligate __ init__ of SortedList, which is next on MRO.\n",
    "- super() from SortedList will deligate SimpleList because that is the next class on <b>MRO of SortedIntList</b>"
   ]
  },
  {
   "cell_type": "markdown",
   "metadata": {},
   "source": [
    "If super() is called from any method of an instance it will make use of the self argument of that method to determine the class and thus the MRO for super() execution.<br>\n",
    "But what if we call super() from class method? It doesn't have self argument and thus it will use cls argument.\n",
    "### Class-bound Super Proxies"
   ]
  },
  {
   "cell_type": "code",
   "execution_count": 20,
   "metadata": {},
   "outputs": [],
   "source": [
    "class Animal:\n",
    "    @classmethod\n",
    "    def description(cls):\n",
    "        return \"An animal\"\n",
    "\n",
    "class Bird(Animal):\n",
    "    @classmethod\n",
    "    def description(cls):\n",
    "        s = super()\n",
    "        print(s)\n",
    "        print(s.description)\n",
    "        return s.description() + \" with wings\"\n",
    "\n",
    "class Flamingo(Bird):\n",
    "    @classmethod\n",
    "    def description(cls):\n",
    "        return super().description() + \" and fabulous pink feathers\"\n"
   ]
  },
  {
   "cell_type": "code",
   "execution_count": 21,
   "metadata": {},
   "outputs": [
    {
     "data": {
      "text/plain": [
       "(__main__.Flamingo, __main__.Bird, __main__.Animal, object)"
      ]
     },
     "execution_count": 21,
     "metadata": {},
     "output_type": "execute_result"
    }
   ],
   "source": [
    "Flamingo.__mro__"
   ]
  },
  {
   "cell_type": "code",
   "execution_count": 22,
   "metadata": {},
   "outputs": [
    {
     "name": "stdout",
     "output_type": "stream",
     "text": [
      "<super: <class 'Bird'>, <Flamingo object>>\n",
      "<bound method Animal.description of <class '__main__.Flamingo'>>\n"
     ]
    },
    {
     "data": {
      "text/plain": [
       "'An animal with wings and fabulous pink feathers'"
      ]
     },
     "execution_count": 22,
     "metadata": {},
     "output_type": "execute_result"
    }
   ],
   "source": [
    "Flamingo.description()"
   ]
  },
  {
   "cell_type": "markdown",
   "metadata": {},
   "source": [
    "We can explicitely pass arguments to super(class_object, instance_or_class)\n",
    "- The first argument will tell where to trim the MRO while second argument will be used to get the MRO."
   ]
  },
  {
   "cell_type": "code",
   "execution_count": 23,
   "metadata": {},
   "outputs": [
    {
     "data": {
      "text/plain": [
       "SortedIntList(['Now string can be added as we skipped validation of IntList class'])"
      ]
     },
     "execution_count": 23,
     "metadata": {},
     "output_type": "execute_result"
    }
   ],
   "source": [
    "s = SortedIntList()\n",
    "# We can overpass the int validation by trimming it from SortedIntList MRO\n",
    "# Use MRO of S -- SortedIntList, starting from IntList(excluded).\n",
    "# If we didn't specified first argument would have been SortedIntList\n",
    "super(IntList, s).add('Now string can be added as we skipped validation of IntList class')\n",
    "s"
   ]
  }
 ],
 "metadata": {
  "kernelspec": {
   "display_name": "Python 3",
   "language": "python",
   "name": "python3"
  },
  "language_info": {
   "codemirror_mode": {
    "name": "ipython",
    "version": 3
   },
   "file_extension": ".py",
   "mimetype": "text/x-python",
   "name": "python",
   "nbconvert_exporter": "python",
   "pygments_lexer": "ipython3",
   "version": "3.7.6"
  }
 },
 "nbformat": 4,
 "nbformat_minor": 4
}
